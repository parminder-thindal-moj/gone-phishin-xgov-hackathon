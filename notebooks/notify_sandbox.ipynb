{
 "cells": [
  {
   "cell_type": "code",
   "execution_count": 1,
   "metadata": {},
   "outputs": [
    {
     "data": {
      "text/plain": [
       "'/Users/samuel.weller/Python/gone-phishin-xgov-hackathon/notebooks'"
      ]
     },
     "execution_count": 1,
     "metadata": {},
     "output_type": "execute_result"
    }
   ],
   "source": [
    "pwd"
   ]
  },
  {
   "cell_type": "code",
   "execution_count": 2,
   "metadata": {},
   "outputs": [
    {
     "name": "stdout",
     "output_type": "stream",
     "text": [
      "/Users/samuel.weller/Python/gone-phishin-xgov-hackathon\n"
     ]
    }
   ],
   "source": [
    "cd .."
   ]
  },
  {
   "cell_type": "code",
   "execution_count": 3,
   "metadata": {},
   "outputs": [],
   "source": [
    "from constants import GOV_API_KEY, PST_PHONE_NUMBER, IPHONE_PHONE_NUMBER"
   ]
  },
  {
   "cell_type": "code",
   "execution_count": 4,
   "metadata": {},
   "outputs": [
    {
     "name": "stdout",
     "output_type": "stream",
     "text": [
      "<regex.Match object; span=(30, 61), match='https://nevincan.av.tr/otp.html'>\n",
      "['https://nevincan.av.tr/otp.html']\n"
     ]
    }
   ],
   "source": [
    "from flask_app.app import score\n",
    "\n",
    "from notifications_python_client.notifications import NotificationsAPIClient\n",
    "\n",
    "notifications_client = NotificationsAPIClient(GOV_API_KEY)"
   ]
  },
  {
   "cell_type": "code",
   "execution_count": 5,
   "metadata": {},
   "outputs": [],
   "source": [
    "import flask\n",
    "from flask import Flask, request\n",
    "import json\n",
    "import pandas as pd\n",
    "import pickle\n",
    "import xgboost\n",
    "from flask_app.extraction import url_extractor\n",
    "\n",
    "import regex as re\n",
    "\n",
    "import urllib.parse as urlparse\n",
    "from tld import get_tld\n",
    "import urllib.request as urlreq"
   ]
  },
  {
   "cell_type": "code",
   "execution_count": 6,
   "metadata": {},
   "outputs": [],
   "source": [
    "### Greeting msg / autoreply msg\n",
    "greeting_msg_template_id = 'fbd7abfa-1bf3-4fc2-9948-4a37a6ce9293'\n",
    "\n",
    "#### Template Spam Msgs\n",
    "spam_msg_tempalte_id = \"ed5edbf5-76e0-42be-9c06-3b3717ce00ad\"\n",
    "not_spam_msg_template_id = \"5e107ed8-c631-492f-ad7d-91c73919a42e\""
   ]
  },
  {
   "cell_type": "code",
   "execution_count": 7,
   "metadata": {},
   "outputs": [],
   "source": [
    "### Send text message:\n",
    "# phone_number = PST_PHONE_NUMBER\n",
    "\n",
    "# response = notifications_client.send_sms_notification(\n",
    "#     phone_number=phone_number, # required string\n",
    "#     template_id=greeting_msg_template_id, # required UUID string\n",
    "# )"
   ]
  },
  {
   "cell_type": "code",
   "execution_count": 8,
   "metadata": {},
   "outputs": [
    {
     "ename": "NameError",
     "evalue": "name 'response' is not defined",
     "output_type": "error",
     "traceback": [
      "\u001b[0;31m---------------------------------------------------------------------------\u001b[0m",
      "\u001b[0;31mNameError\u001b[0m                                 Traceback (most recent call last)",
      "Cell \u001b[0;32mIn[8], line 1\u001b[0m\n\u001b[0;32m----> 1\u001b[0m response\n",
      "\u001b[0;31mNameError\u001b[0m: name 'response' is not defined"
     ]
    }
   ],
   "source": [
    "response"
   ]
  },
  {
   "cell_type": "code",
   "execution_count": 9,
   "metadata": {},
   "outputs": [],
   "source": [
    "def get_received_texts():\n",
    "    \"\"\"Get all the recieved text messages to the digital phone number\"\"\"\n",
    "    return notifications_client.get_received_texts()"
   ]
  },
  {
   "cell_type": "code",
   "execution_count": 10,
   "metadata": {},
   "outputs": [],
   "source": [
    "def get_spam_score(url):\n",
    "    \n",
    "    \"\"\"Get the spam score of a given url\"\"\"\n",
    "    \n",
    "    # Convert to features df\n",
    "    data = url_extractor(url)\n",
    "    \n",
    "    # Load model\n",
    "    model = pickle.load(open('xg_model.pkl', 'rb'))\n",
    "    \n",
    "    spam_score = round(model.predict_proba(data.to_numpy())[0][1], 2)\n",
    "\n",
    "    return spam_score"
   ]
  },
  {
   "cell_type": "code",
   "execution_count": 11,
   "metadata": {},
   "outputs": [],
   "source": [
    "def get_spam_classification(spam_score:float, threshold:float=0.75):\n",
    "    \"\"\"Get the text classfication or a spam score\"\"\"\n",
    "    if spam_score >= threshold:\n",
    "        spam_classfication = \"SPAM\"\n",
    "    else:\n",
    "        spam_classfication = \"NOT SPAM\"\n",
    "    \n",
    "    return spam_classfication"
   ]
  },
  {
   "cell_type": "code",
   "execution_count": 12,
   "metadata": {},
   "outputs": [
    {
     "name": "stdout",
     "output_type": "stream",
     "text": [
      "<regex.Match object; span=(0, 18), match='https://google.com'>\n",
      "['https://google.com']\n"
     ]
    },
    {
     "data": {
      "text/plain": [
       "0.28"
      ]
     },
     "execution_count": 12,
     "metadata": {},
     "output_type": "execute_result"
    }
   ],
   "source": [
    "google_url = \"https://google.com\"\n",
    "\n",
    "google_spam_score = get_spam_score(google_url)\n",
    "\n",
    "google_spam_score"
   ]
  },
  {
   "cell_type": "code",
   "execution_count": 13,
   "metadata": {},
   "outputs": [
    {
     "data": {
      "text/plain": [
       "'NOT SPAM'"
      ]
     },
     "execution_count": 13,
     "metadata": {},
     "output_type": "execute_result"
    }
   ],
   "source": [
    "get_spam_classification(spam_score=google_spam_score)"
   ]
  },
  {
   "cell_type": "code",
   "execution_count": 14,
   "metadata": {},
   "outputs": [
    {
     "name": "stdout",
     "output_type": "stream",
     "text": [
      "<regex.Match object; span=(0, 22), match='https://evri.id-60.com'>\n",
      "['https://evri.id-60.com']\n"
     ]
    },
    {
     "data": {
      "text/plain": [
       "0.85"
      ]
     },
     "execution_count": 14,
     "metadata": {},
     "output_type": "execute_result"
    }
   ],
   "source": [
    "spam_url = \"https://evri.id-60.com\"\n",
    "\n",
    "spam_eg_spam_score = get_spam_score(spam_url)\n",
    "\n",
    "spam_eg_spam_score"
   ]
  },
  {
   "cell_type": "code",
   "execution_count": 15,
   "metadata": {},
   "outputs": [
    {
     "data": {
      "text/plain": [
       "'SPAM'"
      ]
     },
     "execution_count": 15,
     "metadata": {},
     "output_type": "execute_result"
    }
   ],
   "source": [
    "get_spam_classification(spam_score=spam_eg_spam_score)"
   ]
  },
  {
   "cell_type": "code",
   "execution_count": 26,
   "metadata": {},
   "outputs": [
    {
     "name": "stdout",
     "output_type": "stream",
     "text": [
      "{'content': 'Hello I have this dodgy link - www.LinkedIn.com', 'created_at': '2023-03-31T09:18:50.443698Z', 'id': '232904b5-5772-4766-8144-3bcd87c07a37', 'notify_number': '07860003294', 'service_id': '6bcf111f-3cfc-4c63-87fa-5ed3b2c9d76a', 'user_number': '447935993222'}\n",
      "{'content': 'www.google.co.uk', 'created_at': '2023-03-31T08:45:11.786192Z', 'id': '0833fc6b-35e2-4661-8c64-040c29e8f7d3', 'notify_number': '07860003294', 'service_id': '6bcf111f-3cfc-4c63-87fa-5ed3b2c9d76a', 'user_number': '447923370598'}\n",
      "{'content': 'https://evri.id-35.com', 'created_at': '2023-03-31T08:44:58.352047Z', 'id': '235153a5-1e27-4b24-bd1c-6c4f0a311eed', 'notify_number': '07860003294', 'service_id': '6bcf111f-3cfc-4c63-87fa-5ed3b2c9d76a', 'user_number': '447923370598'}\n",
      "{'content': 'https://evri.id-35.com', 'created_at': '2023-03-31T08:44:16.522418Z', 'id': '1aa336a3-88dc-420f-8b55-450f824f2b73', 'notify_number': '07860003294', 'service_id': '6bcf111f-3cfc-4c63-87fa-5ed3b2c9d76a', 'user_number': '447923370598'}\n",
      "{'content': 'https://evri.id-35.com', 'created_at': '2023-03-31T08:43:15.779531Z', 'id': '46875dbb-01ce-4464-95f4-63d4a3c09008', 'notify_number': '07860003294', 'service_id': '6bcf111f-3cfc-4c63-87fa-5ed3b2c9d76a', 'user_number': '447923370598'}\n",
      "{'content': 'We will deliver your Amazon parcel today between 08:22-09:22, if not in for your driver you have options www.dpd.co.uk/b/6dcLdSq1Ggb6', 'created_at': '2023-03-31T08:39:37.765515Z', 'id': 'cf341fab-d8b4-4d36-b2b4-d05d8104412d', 'notify_number': '07860003294', 'service_id': '6bcf111f-3cfc-4c63-87fa-5ed3b2c9d76a', 'user_number': '447818654772'}\n",
      "{'content': 'www.google.co.uk', 'created_at': '2023-03-30T22:25:34.671728Z', 'id': '3ec795cd-ef12-4b43-b126-b223c3a912b4', 'notify_number': '07860003294', 'service_id': '6bcf111f-3cfc-4c63-87fa-5ed3b2c9d76a', 'user_number': '447923370598'}\n",
      "{'content': 'www.google.co.uk', 'created_at': '2023-03-30T22:24:45.598592Z', 'id': 'a4cebd52-c990-4ae4-bdbe-4ad2a7124e6c', 'notify_number': '07860003294', 'service_id': '6bcf111f-3cfc-4c63-87fa-5ed3b2c9d76a', 'user_number': '447923370598'}\n",
      "{'content': 'www google.co.uk', 'created_at': '2023-03-30T22:24:36.607246Z', 'id': '0432e97f-71ef-4abe-8bc7-bd43a9221957', 'notify_number': '07860003294', 'service_id': '6bcf111f-3cfc-4c63-87fa-5ed3b2c9d76a', 'user_number': '447923370598'}\n",
      "{'content': 'www.google.co.uk', 'created_at': '2023-03-30T22:23:16.905471Z', 'id': 'b3760a6f-31d9-4970-b96f-d385b023b72d', 'notify_number': '07860003294', 'service_id': '6bcf111f-3cfc-4c63-87fa-5ed3b2c9d76a', 'user_number': '447923370598'}\n",
      "{'content': 'www.google.com', 'created_at': '2023-03-30T22:23:00.556655Z', 'id': '31b67912-9a7c-4129-aeaf-28b3e2cb81e7', 'notify_number': '07860003294', 'service_id': '6bcf111f-3cfc-4c63-87fa-5ed3b2c9d76a', 'user_number': '447923370598'}\n",
      "{'content': 'www.google.com', 'created_at': '2023-03-30T22:22:17.593662Z', 'id': 'a87de1b0-dbc7-491e-a65f-78a205d864b2', 'notify_number': '07860003294', 'service_id': '6bcf111f-3cfc-4c63-87fa-5ed3b2c9d76a', 'user_number': '447923370598'}\n",
      "{'content': 'www.google.com', 'created_at': '2023-03-30T22:20:53.000218Z', 'id': '609e1a65-bdfa-4f7e-87c9-57886c2921ef', 'notify_number': '07860003294', 'service_id': '6bcf111f-3cfc-4c63-87fa-5ed3b2c9d76a', 'user_number': '447923370598'}\n",
      "{'content': 'www.google.com', 'created_at': '2023-03-30T22:19:26.802124Z', 'id': '32c5ce32-ed05-4825-8cd6-200cab9cef5a', 'notify_number': '07860003294', 'service_id': '6bcf111f-3cfc-4c63-87fa-5ed3b2c9d76a', 'user_number': '447923370598'}\n",
      "{'content': 'www.google.com', 'created_at': '2023-03-30T22:17:53.531081Z', 'id': 'fba5fbd8-c72f-4cb6-a31f-41a123a6146a', 'notify_number': '07860003294', 'service_id': '6bcf111f-3cfc-4c63-87fa-5ed3b2c9d76a', 'user_number': '447923370598'}\n",
      "{'content': 'www.google.com', 'created_at': '2023-03-30T22:16:14.380304Z', 'id': '1a8f02b1-c673-48b7-87f0-c05e36e7b408', 'notify_number': '07860003294', 'service_id': '6bcf111f-3cfc-4c63-87fa-5ed3b2c9d76a', 'user_number': '447923370598'}\n",
      "{'content': 'www.google.co.uk', 'created_at': '2023-03-30T22:15:41.295462Z', 'id': '5fc07ea4-925f-465b-92cf-4c263699a681', 'notify_number': '07860003294', 'service_id': '6bcf111f-3cfc-4c63-87fa-5ed3b2c9d76a', 'user_number': '447923370598'}\n",
      "{'content': 'https://evri.id-35.com', 'created_at': '2023-03-30T21:38:06.904474Z', 'id': 'c62ba4bb-27f7-45bf-9668-cdd4191d670f', 'notify_number': '07860003294', 'service_id': '6bcf111f-3cfc-4c63-87fa-5ed3b2c9d76a', 'user_number': '447923370598'}\n",
      "{'content': 'https://evri.id-35.com', 'created_at': '2023-03-30T21:37:38.912321Z', 'id': '56484276-f605-4057-afd0-1bb24e64a565', 'notify_number': '07860003294', 'service_id': '6bcf111f-3cfc-4c63-87fa-5ed3b2c9d76a', 'user_number': '447923370598'}\n",
      "{'content': 'https://esri-5.g', 'created_at': '2023-03-30T21:33:37.100032Z', 'id': '6ca63ed7-9f20-4f18-a3da-94fc98d70d13', 'notify_number': '07860003294', 'service_id': '6bcf111f-3cfc-4c63-87fa-5ed3b2c9d76a', 'user_number': '447923370598'}\n",
      "{'content': 'https://www.google.com', 'created_at': '2023-03-30T21:33:08.531391Z', 'id': 'c1d6bdbc-a227-4b55-a16d-a0e41604889c', 'notify_number': '07860003294', 'service_id': '6bcf111f-3cfc-4c63-87fa-5ed3b2c9d76a', 'user_number': '447923370598'}\n",
      "{'content': 'https://www.google.com', 'created_at': '2023-03-30T21:27:17.198453Z', 'id': 'a3e4191d-8226-4a40-9614-83ae00c1f71a', 'notify_number': '07860003294', 'service_id': '6bcf111f-3cfc-4c63-87fa-5ed3b2c9d76a', 'user_number': '447923370598'}\n",
      "{'content': 'Can you please check this url - www.google.com', 'created_at': '2023-03-30T15:48:34.684975Z', 'id': '22e8ed36-a60f-422f-a067-bf2fad2532c3', 'notify_number': '07860003294', 'service_id': '6bcf111f-3cfc-4c63-87fa-5ed3b2c9d76a', 'user_number': '447935993222'}\n",
      "{'content': '15964', 'created_at': '2023-03-30T14:50:55.315855Z', 'id': '00fa445b-2cb9-44e6-a00d-70eb79f5ef59', 'notify_number': '07860003294', 'service_id': '6bcf111f-3cfc-4c63-87fa-5ed3b2c9d76a', 'user_number': '447935993222'}\n",
      "{'content': 'Heres my spam link', 'created_at': '2023-03-30T14:32:51.706282Z', 'id': '15656acb-17dd-467d-8299-0264a940c0ea', 'notify_number': '07860003294', 'service_id': '6bcf111f-3cfc-4c63-87fa-5ed3b2c9d76a', 'user_number': '447935993222'}\n",
      "{'content': 'Here is my spam link', 'created_at': '2023-03-30T12:34:42.389994Z', 'id': 'decc2206-000e-4160-8f07-6a298e5f51e3', 'notify_number': '07860003294', 'service_id': '6bcf111f-3cfc-4c63-87fa-5ed3b2c9d76a', 'user_number': '447935993222'}\n",
      "['232904b5-5772-4766-8144-3bcd87c07a37', '0833fc6b-35e2-4661-8c64-040c29e8f7d3', '235153a5-1e27-4b24-bd1c-6c4f0a311eed', '1aa336a3-88dc-420f-8b55-450f824f2b73', '46875dbb-01ce-4464-95f4-63d4a3c09008', 'cf341fab-d8b4-4d36-b2b4-d05d8104412d', '3ec795cd-ef12-4b43-b126-b223c3a912b4', 'a4cebd52-c990-4ae4-bdbe-4ad2a7124e6c', '0432e97f-71ef-4abe-8bc7-bd43a9221957', 'b3760a6f-31d9-4970-b96f-d385b023b72d', '31b67912-9a7c-4129-aeaf-28b3e2cb81e7', 'a87de1b0-dbc7-491e-a65f-78a205d864b2', '609e1a65-bdfa-4f7e-87c9-57886c2921ef', '32c5ce32-ed05-4825-8cd6-200cab9cef5a', 'fba5fbd8-c72f-4cb6-a31f-41a123a6146a', '1a8f02b1-c673-48b7-87f0-c05e36e7b408', '5fc07ea4-925f-465b-92cf-4c263699a681', 'c62ba4bb-27f7-45bf-9668-cdd4191d670f', '56484276-f605-4057-afd0-1bb24e64a565', '6ca63ed7-9f20-4f18-a3da-94fc98d70d13', 'c1d6bdbc-a227-4b55-a16d-a0e41604889c', 'a3e4191d-8226-4a40-9614-83ae00c1f71a', '22e8ed36-a60f-422f-a067-bf2fad2532c3', '00fa445b-2cb9-44e6-a00d-70eb79f5ef59', '15656acb-17dd-467d-8299-0264a940c0ea', 'decc2206-000e-4160-8f07-6a298e5f51e3']\n",
      "{'content': 'Thanks! I also have this dodgy link - https://kritimoneta23.Ru/', 'created_at': '2023-03-31T09:23:32.531118Z', 'id': '7d70d57a-a437-48fc-a37f-d82b85d44051', 'notify_number': '07860003294', 'service_id': '6bcf111f-3cfc-4c63-87fa-5ed3b2c9d76a', 'user_number': '447935993222'}\n",
      "Getting: thanks! i also have this dodgy link - https://kritimoneta23.ru/\n",
      "<regex.Match object; span=(38, 63), match='https://kritimoneta23.ru/'>\n",
      "['https://kritimoneta23.ru/']\n",
      "0.77\n",
      "<regex.Match object; span=(38, 63), match='https://kritimoneta23.ru/'>\n",
      "['https://kritimoneta23.ru/']\n",
      "{'content': 'Hi I have found this URL - https://www.cs-moneystart.fun', 'created_at': '2023-03-31T09:31:02.489903Z', 'id': 'c24175a8-6a25-42d2-86ff-f5a667321b61', 'notify_number': '07860003294', 'service_id': '6bcf111f-3cfc-4c63-87fa-5ed3b2c9d76a', 'user_number': '447935993222'}\n",
      "Getting: hi i have found this url - https://www.cs-moneystart.fun\n",
      "<regex.Match object; span=(27, 56), match='https://www.cs-moneystart.fun'>\n",
      "['https://www.cs-moneystart.fun']\n",
      "0.97\n",
      "<regex.Match object; span=(27, 56), match='https://www.cs-moneystart.fun'>\n",
      "['https://www.cs-moneystart.fun']\n",
      "{'content': 'Https://Wikipedia.com', 'created_at': '2023-03-31T09:48:42.093209Z', 'id': '00dd83d3-300a-4aba-9eea-cb18703933fd', 'notify_number': '07860003294', 'service_id': '6bcf111f-3cfc-4c63-87fa-5ed3b2c9d76a', 'user_number': '447935993222'}\n",
      "Getting: https://wikipedia.com\n",
      "<regex.Match object; span=(0, 21), match='https://wikipedia.com'>\n",
      "['https://wikipedia.com']\n",
      "0.34\n",
      "<regex.Match object; span=(0, 21), match='https://wikipedia.com'>\n",
      "['https://wikipedia.com']\n",
      "{'content': 'www.wikipedia.org', 'created_at': '2023-03-31T09:49:15.268657Z', 'id': 'd257935d-0121-4d0d-924a-29fce37857fb', 'notify_number': '07860003294', 'service_id': '6bcf111f-3cfc-4c63-87fa-5ed3b2c9d76a', 'user_number': '447935993222'}\n",
      "Getting: www.wikipedia.org\n",
      "<regex.Match object; span=(0, 17), match='www.wikipedia.org'>\n",
      "['http://www.wikipedia.org']\n",
      "0.56\n",
      "<regex.Match object; span=(0, 17), match='www.wikipedia.org'>\n",
      "['http://www.wikipedia.org']\n"
     ]
    },
    {
     "ename": "KeyboardInterrupt",
     "evalue": "",
     "output_type": "error",
     "traceback": [
      "\u001b[0;31m---------------------------------------------------------------------------\u001b[0m",
      "\u001b[0;31mKeyboardInterrupt\u001b[0m                         Traceback (most recent call last)",
      "Cell \u001b[0;32mIn[26], line 15\u001b[0m\n\u001b[1;32m     10\u001b[0m \u001b[39mprint\u001b[39m(existing)\n\u001b[1;32m     12\u001b[0m \u001b[39mwhile\u001b[39;00m \u001b[39mTrue\u001b[39;00m:\n\u001b[1;32m     13\u001b[0m \n\u001b[1;32m     14\u001b[0m     \u001b[39m# Get texts\u001b[39;00m\n\u001b[0;32m---> 15\u001b[0m     texts \u001b[39m=\u001b[39m get_received_texts()\n\u001b[1;32m     17\u001b[0m     \u001b[39mfor\u001b[39;00m item \u001b[39min\u001b[39;00m texts[\u001b[39m'\u001b[39m\u001b[39mreceived_text_messages\u001b[39m\u001b[39m'\u001b[39m]:\n\u001b[1;32m     19\u001b[0m         \u001b[39mif\u001b[39;00m item[\u001b[39m'\u001b[39m\u001b[39mid\u001b[39m\u001b[39m'\u001b[39m] \u001b[39min\u001b[39;00m existing:\n",
      "Cell \u001b[0;32mIn[9], line 3\u001b[0m, in \u001b[0;36mget_received_texts\u001b[0;34m()\u001b[0m\n\u001b[1;32m      1\u001b[0m \u001b[39mdef\u001b[39;00m \u001b[39mget_received_texts\u001b[39m():\n\u001b[1;32m      2\u001b[0m \u001b[39m    \u001b[39m\u001b[39m\"\"\"Get all the recieved text messages to the digital phone number\"\"\"\u001b[39;00m\n\u001b[0;32m----> 3\u001b[0m     \u001b[39mreturn\u001b[39;00m notifications_client\u001b[39m.\u001b[39;49mget_received_texts()\n",
      "File \u001b[0;32m~/Python/gone-phishin-xgov-hackathon/env/lib/python3.9/site-packages/notifications_python_client/notifications.py:89\u001b[0m, in \u001b[0;36mNotificationsAPIClient.get_received_texts\u001b[0;34m(self, older_than)\u001b[0m\n\u001b[1;32m     86\u001b[0m \u001b[39melse\u001b[39;00m:\n\u001b[1;32m     87\u001b[0m     query_string \u001b[39m=\u001b[39m \u001b[39m'\u001b[39m\u001b[39m'\u001b[39m\n\u001b[0;32m---> 89\u001b[0m \u001b[39mreturn\u001b[39;00m \u001b[39mself\u001b[39;49m\u001b[39m.\u001b[39;49mget(\u001b[39m'\u001b[39;49m\u001b[39m/v2/received-text-messages\u001b[39;49m\u001b[39m{}\u001b[39;49;00m\u001b[39m'\u001b[39;49m\u001b[39m.\u001b[39;49mformat(query_string))\n",
      "File \u001b[0;32m~/Python/gone-phishin-xgov-hackathon/env/lib/python3.9/site-packages/notifications_python_client/base.py:45\u001b[0m, in \u001b[0;36mBaseAPIClient.get\u001b[0;34m(self, url, params)\u001b[0m\n\u001b[1;32m     44\u001b[0m \u001b[39mdef\u001b[39;00m \u001b[39mget\u001b[39m(\u001b[39mself\u001b[39m, url, params\u001b[39m=\u001b[39m\u001b[39mNone\u001b[39;00m):\n\u001b[0;32m---> 45\u001b[0m     \u001b[39mreturn\u001b[39;00m \u001b[39mself\u001b[39;49m\u001b[39m.\u001b[39;49mrequest(\u001b[39m\"\u001b[39;49m\u001b[39mGET\u001b[39;49m\u001b[39m\"\u001b[39;49m, url, params\u001b[39m=\u001b[39;49mparams)\n",
      "File \u001b[0;32m~/Python/gone-phishin-xgov-hackathon/env/lib/python3.9/site-packages/notifications_python_client/base.py:64\u001b[0m, in \u001b[0;36mBaseAPIClient.request\u001b[0;34m(self, method, url, data, params)\u001b[0m\n\u001b[1;32m     61\u001b[0m logger\u001b[39m.\u001b[39mdebug(\u001b[39m\"\u001b[39m\u001b[39mAPI request \u001b[39m\u001b[39m{}\u001b[39;00m\u001b[39m \u001b[39m\u001b[39m{}\u001b[39;00m\u001b[39m\"\u001b[39m\u001b[39m.\u001b[39mformat(method, url))\n\u001b[1;32m     62\u001b[0m url, kwargs \u001b[39m=\u001b[39m \u001b[39mself\u001b[39m\u001b[39m.\u001b[39m_create_request_objects(url, data, params)\n\u001b[0;32m---> 64\u001b[0m response \u001b[39m=\u001b[39m \u001b[39mself\u001b[39;49m\u001b[39m.\u001b[39;49m_perform_request(method, url, kwargs)\n\u001b[1;32m     66\u001b[0m \u001b[39mreturn\u001b[39;00m \u001b[39mself\u001b[39m\u001b[39m.\u001b[39m_process_json_response(response)\n",
      "File \u001b[0;32m~/Python/gone-phishin-xgov-hackathon/env/lib/python3.9/site-packages/notifications_python_client/base.py:101\u001b[0m, in \u001b[0;36mBaseAPIClient._perform_request\u001b[0;34m(self, method, url, kwargs)\u001b[0m\n\u001b[1;32m     99\u001b[0m start_time \u001b[39m=\u001b[39m time\u001b[39m.\u001b[39mmonotonic()\n\u001b[1;32m    100\u001b[0m \u001b[39mtry\u001b[39;00m:\n\u001b[0;32m--> 101\u001b[0m     response \u001b[39m=\u001b[39m requests\u001b[39m.\u001b[39;49mrequest(\n\u001b[1;32m    102\u001b[0m         method,\n\u001b[1;32m    103\u001b[0m         url,\n\u001b[1;32m    104\u001b[0m         \u001b[39m*\u001b[39;49m\u001b[39m*\u001b[39;49mkwargs\n\u001b[1;32m    105\u001b[0m     )\n\u001b[1;32m    106\u001b[0m     response\u001b[39m.\u001b[39mraise_for_status()\n\u001b[1;32m    107\u001b[0m     \u001b[39mreturn\u001b[39;00m response\n",
      "File \u001b[0;32m~/Python/gone-phishin-xgov-hackathon/env/lib/python3.9/site-packages/requests/api.py:59\u001b[0m, in \u001b[0;36mrequest\u001b[0;34m(method, url, **kwargs)\u001b[0m\n\u001b[1;32m     55\u001b[0m \u001b[39m# By using the 'with' statement we are sure the session is closed, thus we\u001b[39;00m\n\u001b[1;32m     56\u001b[0m \u001b[39m# avoid leaving sockets open which can trigger a ResourceWarning in some\u001b[39;00m\n\u001b[1;32m     57\u001b[0m \u001b[39m# cases, and look like a memory leak in others.\u001b[39;00m\n\u001b[1;32m     58\u001b[0m \u001b[39mwith\u001b[39;00m sessions\u001b[39m.\u001b[39mSession() \u001b[39mas\u001b[39;00m session:\n\u001b[0;32m---> 59\u001b[0m     \u001b[39mreturn\u001b[39;00m session\u001b[39m.\u001b[39;49mrequest(method\u001b[39m=\u001b[39;49mmethod, url\u001b[39m=\u001b[39;49murl, \u001b[39m*\u001b[39;49m\u001b[39m*\u001b[39;49mkwargs)\n",
      "File \u001b[0;32m~/Python/gone-phishin-xgov-hackathon/env/lib/python3.9/site-packages/requests/sessions.py:587\u001b[0m, in \u001b[0;36mSession.request\u001b[0;34m(self, method, url, params, data, headers, cookies, files, auth, timeout, allow_redirects, proxies, hooks, stream, verify, cert, json)\u001b[0m\n\u001b[1;32m    582\u001b[0m send_kwargs \u001b[39m=\u001b[39m {\n\u001b[1;32m    583\u001b[0m     \u001b[39m\"\u001b[39m\u001b[39mtimeout\u001b[39m\u001b[39m\"\u001b[39m: timeout,\n\u001b[1;32m    584\u001b[0m     \u001b[39m\"\u001b[39m\u001b[39mallow_redirects\u001b[39m\u001b[39m\"\u001b[39m: allow_redirects,\n\u001b[1;32m    585\u001b[0m }\n\u001b[1;32m    586\u001b[0m send_kwargs\u001b[39m.\u001b[39mupdate(settings)\n\u001b[0;32m--> 587\u001b[0m resp \u001b[39m=\u001b[39m \u001b[39mself\u001b[39;49m\u001b[39m.\u001b[39;49msend(prep, \u001b[39m*\u001b[39;49m\u001b[39m*\u001b[39;49msend_kwargs)\n\u001b[1;32m    589\u001b[0m \u001b[39mreturn\u001b[39;00m resp\n",
      "File \u001b[0;32m~/Python/gone-phishin-xgov-hackathon/env/lib/python3.9/site-packages/requests/sessions.py:701\u001b[0m, in \u001b[0;36mSession.send\u001b[0;34m(self, request, **kwargs)\u001b[0m\n\u001b[1;32m    698\u001b[0m start \u001b[39m=\u001b[39m preferred_clock()\n\u001b[1;32m    700\u001b[0m \u001b[39m# Send the request\u001b[39;00m\n\u001b[0;32m--> 701\u001b[0m r \u001b[39m=\u001b[39m adapter\u001b[39m.\u001b[39;49msend(request, \u001b[39m*\u001b[39;49m\u001b[39m*\u001b[39;49mkwargs)\n\u001b[1;32m    703\u001b[0m \u001b[39m# Total elapsed time of the request (approximately)\u001b[39;00m\n\u001b[1;32m    704\u001b[0m elapsed \u001b[39m=\u001b[39m preferred_clock() \u001b[39m-\u001b[39m start\n",
      "File \u001b[0;32m~/Python/gone-phishin-xgov-hackathon/env/lib/python3.9/site-packages/requests/adapters.py:489\u001b[0m, in \u001b[0;36mHTTPAdapter.send\u001b[0;34m(self, request, stream, timeout, verify, cert, proxies)\u001b[0m\n\u001b[1;32m    487\u001b[0m \u001b[39mtry\u001b[39;00m:\n\u001b[1;32m    488\u001b[0m     \u001b[39mif\u001b[39;00m \u001b[39mnot\u001b[39;00m chunked:\n\u001b[0;32m--> 489\u001b[0m         resp \u001b[39m=\u001b[39m conn\u001b[39m.\u001b[39;49murlopen(\n\u001b[1;32m    490\u001b[0m             method\u001b[39m=\u001b[39;49mrequest\u001b[39m.\u001b[39;49mmethod,\n\u001b[1;32m    491\u001b[0m             url\u001b[39m=\u001b[39;49murl,\n\u001b[1;32m    492\u001b[0m             body\u001b[39m=\u001b[39;49mrequest\u001b[39m.\u001b[39;49mbody,\n\u001b[1;32m    493\u001b[0m             headers\u001b[39m=\u001b[39;49mrequest\u001b[39m.\u001b[39;49mheaders,\n\u001b[1;32m    494\u001b[0m             redirect\u001b[39m=\u001b[39;49m\u001b[39mFalse\u001b[39;49;00m,\n\u001b[1;32m    495\u001b[0m             assert_same_host\u001b[39m=\u001b[39;49m\u001b[39mFalse\u001b[39;49;00m,\n\u001b[1;32m    496\u001b[0m             preload_content\u001b[39m=\u001b[39;49m\u001b[39mFalse\u001b[39;49;00m,\n\u001b[1;32m    497\u001b[0m             decode_content\u001b[39m=\u001b[39;49m\u001b[39mFalse\u001b[39;49;00m,\n\u001b[1;32m    498\u001b[0m             retries\u001b[39m=\u001b[39;49m\u001b[39mself\u001b[39;49m\u001b[39m.\u001b[39;49mmax_retries,\n\u001b[1;32m    499\u001b[0m             timeout\u001b[39m=\u001b[39;49mtimeout,\n\u001b[1;32m    500\u001b[0m         )\n\u001b[1;32m    502\u001b[0m     \u001b[39m# Send the request.\u001b[39;00m\n\u001b[1;32m    503\u001b[0m     \u001b[39melse\u001b[39;00m:\n\u001b[1;32m    504\u001b[0m         \u001b[39mif\u001b[39;00m \u001b[39mhasattr\u001b[39m(conn, \u001b[39m\"\u001b[39m\u001b[39mproxy_pool\u001b[39m\u001b[39m\"\u001b[39m):\n",
      "File \u001b[0;32m~/Python/gone-phishin-xgov-hackathon/env/lib/python3.9/site-packages/urllib3/connectionpool.py:703\u001b[0m, in \u001b[0;36mHTTPConnectionPool.urlopen\u001b[0;34m(self, method, url, body, headers, retries, redirect, assert_same_host, timeout, pool_timeout, release_conn, chunked, body_pos, **response_kw)\u001b[0m\n\u001b[1;32m    700\u001b[0m     \u001b[39mself\u001b[39m\u001b[39m.\u001b[39m_prepare_proxy(conn)\n\u001b[1;32m    702\u001b[0m \u001b[39m# Make the request on the httplib connection object.\u001b[39;00m\n\u001b[0;32m--> 703\u001b[0m httplib_response \u001b[39m=\u001b[39m \u001b[39mself\u001b[39;49m\u001b[39m.\u001b[39;49m_make_request(\n\u001b[1;32m    704\u001b[0m     conn,\n\u001b[1;32m    705\u001b[0m     method,\n\u001b[1;32m    706\u001b[0m     url,\n\u001b[1;32m    707\u001b[0m     timeout\u001b[39m=\u001b[39;49mtimeout_obj,\n\u001b[1;32m    708\u001b[0m     body\u001b[39m=\u001b[39;49mbody,\n\u001b[1;32m    709\u001b[0m     headers\u001b[39m=\u001b[39;49mheaders,\n\u001b[1;32m    710\u001b[0m     chunked\u001b[39m=\u001b[39;49mchunked,\n\u001b[1;32m    711\u001b[0m )\n\u001b[1;32m    713\u001b[0m \u001b[39m# If we're going to release the connection in ``finally:``, then\u001b[39;00m\n\u001b[1;32m    714\u001b[0m \u001b[39m# the response doesn't need to know about the connection. Otherwise\u001b[39;00m\n\u001b[1;32m    715\u001b[0m \u001b[39m# it will also try to release it and we'll have a double-release\u001b[39;00m\n\u001b[1;32m    716\u001b[0m \u001b[39m# mess.\u001b[39;00m\n\u001b[1;32m    717\u001b[0m response_conn \u001b[39m=\u001b[39m conn \u001b[39mif\u001b[39;00m \u001b[39mnot\u001b[39;00m release_conn \u001b[39melse\u001b[39;00m \u001b[39mNone\u001b[39;00m\n",
      "File \u001b[0;32m~/Python/gone-phishin-xgov-hackathon/env/lib/python3.9/site-packages/urllib3/connectionpool.py:386\u001b[0m, in \u001b[0;36mHTTPConnectionPool._make_request\u001b[0;34m(self, conn, method, url, timeout, chunked, **httplib_request_kw)\u001b[0m\n\u001b[1;32m    384\u001b[0m \u001b[39m# Trigger any extra validation we need to do.\u001b[39;00m\n\u001b[1;32m    385\u001b[0m \u001b[39mtry\u001b[39;00m:\n\u001b[0;32m--> 386\u001b[0m     \u001b[39mself\u001b[39;49m\u001b[39m.\u001b[39;49m_validate_conn(conn)\n\u001b[1;32m    387\u001b[0m \u001b[39mexcept\u001b[39;00m (SocketTimeout, BaseSSLError) \u001b[39mas\u001b[39;00m e:\n\u001b[1;32m    388\u001b[0m     \u001b[39m# Py2 raises this as a BaseSSLError, Py3 raises it as socket timeout.\u001b[39;00m\n\u001b[1;32m    389\u001b[0m     \u001b[39mself\u001b[39m\u001b[39m.\u001b[39m_raise_timeout(err\u001b[39m=\u001b[39me, url\u001b[39m=\u001b[39murl, timeout_value\u001b[39m=\u001b[39mconn\u001b[39m.\u001b[39mtimeout)\n",
      "File \u001b[0;32m~/Python/gone-phishin-xgov-hackathon/env/lib/python3.9/site-packages/urllib3/connectionpool.py:1042\u001b[0m, in \u001b[0;36mHTTPSConnectionPool._validate_conn\u001b[0;34m(self, conn)\u001b[0m\n\u001b[1;32m   1040\u001b[0m \u001b[39m# Force connect early to allow us to validate the connection.\u001b[39;00m\n\u001b[1;32m   1041\u001b[0m \u001b[39mif\u001b[39;00m \u001b[39mnot\u001b[39;00m \u001b[39mgetattr\u001b[39m(conn, \u001b[39m\"\u001b[39m\u001b[39msock\u001b[39m\u001b[39m\"\u001b[39m, \u001b[39mNone\u001b[39;00m):  \u001b[39m# AppEngine might not have  `.sock`\u001b[39;00m\n\u001b[0;32m-> 1042\u001b[0m     conn\u001b[39m.\u001b[39;49mconnect()\n\u001b[1;32m   1044\u001b[0m \u001b[39mif\u001b[39;00m \u001b[39mnot\u001b[39;00m conn\u001b[39m.\u001b[39mis_verified:\n\u001b[1;32m   1045\u001b[0m     warnings\u001b[39m.\u001b[39mwarn(\n\u001b[1;32m   1046\u001b[0m         (\n\u001b[1;32m   1047\u001b[0m             \u001b[39m\"\u001b[39m\u001b[39mUnverified HTTPS request is being made to host \u001b[39m\u001b[39m'\u001b[39m\u001b[39m%s\u001b[39;00m\u001b[39m'\u001b[39m\u001b[39m. \u001b[39m\u001b[39m\"\u001b[39m\n\u001b[0;32m   (...)\u001b[0m\n\u001b[1;32m   1052\u001b[0m         InsecureRequestWarning,\n\u001b[1;32m   1053\u001b[0m     )\n",
      "File \u001b[0;32m~/Python/gone-phishin-xgov-hackathon/env/lib/python3.9/site-packages/urllib3/connection.py:419\u001b[0m, in \u001b[0;36mHTTPSConnection.connect\u001b[0;34m(self)\u001b[0m\n\u001b[1;32m    410\u001b[0m \u001b[39mif\u001b[39;00m (\n\u001b[1;32m    411\u001b[0m     \u001b[39mnot\u001b[39;00m \u001b[39mself\u001b[39m\u001b[39m.\u001b[39mca_certs\n\u001b[1;32m    412\u001b[0m     \u001b[39mand\u001b[39;00m \u001b[39mnot\u001b[39;00m \u001b[39mself\u001b[39m\u001b[39m.\u001b[39mca_cert_dir\n\u001b[0;32m   (...)\u001b[0m\n\u001b[1;32m    415\u001b[0m     \u001b[39mand\u001b[39;00m \u001b[39mhasattr\u001b[39m(context, \u001b[39m\"\u001b[39m\u001b[39mload_default_certs\u001b[39m\u001b[39m\"\u001b[39m)\n\u001b[1;32m    416\u001b[0m ):\n\u001b[1;32m    417\u001b[0m     context\u001b[39m.\u001b[39mload_default_certs()\n\u001b[0;32m--> 419\u001b[0m \u001b[39mself\u001b[39m\u001b[39m.\u001b[39msock \u001b[39m=\u001b[39m ssl_wrap_socket(\n\u001b[1;32m    420\u001b[0m     sock\u001b[39m=\u001b[39;49mconn,\n\u001b[1;32m    421\u001b[0m     keyfile\u001b[39m=\u001b[39;49m\u001b[39mself\u001b[39;49m\u001b[39m.\u001b[39;49mkey_file,\n\u001b[1;32m    422\u001b[0m     certfile\u001b[39m=\u001b[39;49m\u001b[39mself\u001b[39;49m\u001b[39m.\u001b[39;49mcert_file,\n\u001b[1;32m    423\u001b[0m     key_password\u001b[39m=\u001b[39;49m\u001b[39mself\u001b[39;49m\u001b[39m.\u001b[39;49mkey_password,\n\u001b[1;32m    424\u001b[0m     ca_certs\u001b[39m=\u001b[39;49m\u001b[39mself\u001b[39;49m\u001b[39m.\u001b[39;49mca_certs,\n\u001b[1;32m    425\u001b[0m     ca_cert_dir\u001b[39m=\u001b[39;49m\u001b[39mself\u001b[39;49m\u001b[39m.\u001b[39;49mca_cert_dir,\n\u001b[1;32m    426\u001b[0m     ca_cert_data\u001b[39m=\u001b[39;49m\u001b[39mself\u001b[39;49m\u001b[39m.\u001b[39;49mca_cert_data,\n\u001b[1;32m    427\u001b[0m     server_hostname\u001b[39m=\u001b[39;49mserver_hostname,\n\u001b[1;32m    428\u001b[0m     ssl_context\u001b[39m=\u001b[39;49mcontext,\n\u001b[1;32m    429\u001b[0m     tls_in_tls\u001b[39m=\u001b[39;49mtls_in_tls,\n\u001b[1;32m    430\u001b[0m )\n\u001b[1;32m    432\u001b[0m \u001b[39m# If we're using all defaults and the connection\u001b[39;00m\n\u001b[1;32m    433\u001b[0m \u001b[39m# is TLSv1 or TLSv1.1 we throw a DeprecationWarning\u001b[39;00m\n\u001b[1;32m    434\u001b[0m \u001b[39m# for the host.\u001b[39;00m\n\u001b[1;32m    435\u001b[0m \u001b[39mif\u001b[39;00m (\n\u001b[1;32m    436\u001b[0m     default_ssl_context\n\u001b[1;32m    437\u001b[0m     \u001b[39mand\u001b[39;00m \u001b[39mself\u001b[39m\u001b[39m.\u001b[39mssl_version \u001b[39mis\u001b[39;00m \u001b[39mNone\u001b[39;00m\n\u001b[1;32m    438\u001b[0m     \u001b[39mand\u001b[39;00m \u001b[39mhasattr\u001b[39m(\u001b[39mself\u001b[39m\u001b[39m.\u001b[39msock, \u001b[39m\"\u001b[39m\u001b[39mversion\u001b[39m\u001b[39m\"\u001b[39m)\n\u001b[1;32m    439\u001b[0m     \u001b[39mand\u001b[39;00m \u001b[39mself\u001b[39m\u001b[39m.\u001b[39msock\u001b[39m.\u001b[39mversion() \u001b[39min\u001b[39;00m {\u001b[39m\"\u001b[39m\u001b[39mTLSv1\u001b[39m\u001b[39m\"\u001b[39m, \u001b[39m\"\u001b[39m\u001b[39mTLSv1.1\u001b[39m\u001b[39m\"\u001b[39m}\n\u001b[1;32m    440\u001b[0m ):\n",
      "File \u001b[0;32m~/Python/gone-phishin-xgov-hackathon/env/lib/python3.9/site-packages/urllib3/util/ssl_.py:402\u001b[0m, in \u001b[0;36mssl_wrap_socket\u001b[0;34m(sock, keyfile, certfile, cert_reqs, ca_certs, server_hostname, ssl_version, ciphers, ssl_context, ca_cert_dir, key_password, ca_cert_data, tls_in_tls)\u001b[0m\n\u001b[1;32m    400\u001b[0m \u001b[39mif\u001b[39;00m ca_certs \u001b[39mor\u001b[39;00m ca_cert_dir \u001b[39mor\u001b[39;00m ca_cert_data:\n\u001b[1;32m    401\u001b[0m     \u001b[39mtry\u001b[39;00m:\n\u001b[0;32m--> 402\u001b[0m         context\u001b[39m.\u001b[39;49mload_verify_locations(ca_certs, ca_cert_dir, ca_cert_data)\n\u001b[1;32m    403\u001b[0m     \u001b[39mexcept\u001b[39;00m (\u001b[39mIOError\u001b[39;00m, \u001b[39mOSError\u001b[39;00m) \u001b[39mas\u001b[39;00m e:\n\u001b[1;32m    404\u001b[0m         \u001b[39mraise\u001b[39;00m SSLError(e)\n",
      "\u001b[0;31mKeyboardInterrupt\u001b[0m: "
     ]
    }
   ],
   "source": [
    "import time\n",
    "texts = get_received_texts()\n",
    "\n",
    "existing = []\n",
    "\n",
    "for item in texts['received_text_messages']:\n",
    "    existing.append(item['id'])\n",
    "    print(item)\n",
    "\n",
    "print(existing)\n",
    "\n",
    "while True:\n",
    "\n",
    "    # Get texts\n",
    "    texts = get_received_texts()\n",
    "\n",
    "    for item in texts['received_text_messages']:\n",
    "\n",
    "        if item['id'] in existing:\n",
    "            break\n",
    "\n",
    "        print(item)\n",
    "        \n",
    "        try:\n",
    "            # Get score and return text\n",
    "            print(\"Getting: \" + item['content'].lower())\n",
    "            print(get_spam_score(item['content'].lower()))\n",
    "            if get_spam_score(item['content'].lower()) > 0.75:\n",
    "                \n",
    "                # Return SPAM message\n",
    "                response = notifications_client.send_sms_notification(\n",
    "                    phone_number=item['user_number'], # required string\n",
    "                    template_id=spam_msg_tempalte_id, # required UUID string\n",
    "                )\n",
    "\n",
    "            else:\n",
    "\n",
    "                # Return NOT SPAM\n",
    "                response = notifications_client.send_sms_notification(\n",
    "                    phone_number=item['user_number'], # required string\n",
    "                    template_id=not_spam_msg_template_id, # required UUID string\n",
    "                )\n",
    "\n",
    "            #Add to existing\n",
    "            existing.append(item['id'])\n",
    "        except Exception as e:\n",
    "            print(\"some sort of error occurred, let's hope it's not important\")\n",
    "            print(e)\n",
    "\n",
    "    time.sleep(1)"
   ]
  },
  {
   "cell_type": "code",
   "execution_count": 4,
   "metadata": {},
   "outputs": [
    {
     "name": "stdout",
     "output_type": "stream",
     "text": [
      "<regex.Match object; span=(0, 14), match='www.google.com'>\n",
      "['http://www.google.com']\n",
      "   qty_dot_url  qty_hyphen_url  qty_underline_url  qty_slash_url  \\\n",
      "0            2               0                  0              2   \n",
      "\n",
      "   qty_questionmark_url  qty_equal_url  qty_at_url  qty_and_url  \\\n",
      "0                     0              0           0            0   \n",
      "\n",
      "   qty_asterisk_url  qty_tld_url  ...  qty_slash_params  \\\n",
      "0                 0            0  ...                 0   \n",
      "\n",
      "   qty_questionmark_params  qty_equal_params  qty_at_params  qty_and_params  \\\n",
      "0                        0                 0              0               0   \n",
      "\n",
      "   qty_percent_params  params_length  tld_present_params  qty_params  \\\n",
      "0                   0              0                   0           1   \n",
      "\n",
      "   email_in_url  \n",
      "0             0  \n",
      "\n",
      "[1 rows x 38 columns]\n"
     ]
    }
   ],
   "source": [
    "from flask_app.extraction import url_extractor\n",
    "\n",
    "print(url_extractor('www.google.com/'))"
   ]
  },
  {
   "cell_type": "code",
   "execution_count": null,
   "metadata": {},
   "outputs": [],
   "source": []
  }
 ],
 "metadata": {
  "kernelspec": {
   "display_name": "xgov_hack_venv",
   "language": "python",
   "name": "python3"
  },
  "language_info": {
   "codemirror_mode": {
    "name": "ipython",
    "version": 3
   },
   "file_extension": ".py",
   "mimetype": "text/x-python",
   "name": "python",
   "nbconvert_exporter": "python",
   "pygments_lexer": "ipython3",
   "version": "3.9.6"
  }
 },
 "nbformat": 4,
 "nbformat_minor": 2
}
