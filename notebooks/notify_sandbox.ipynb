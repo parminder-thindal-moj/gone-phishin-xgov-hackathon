{
 "cells": [
  {
   "cell_type": "code",
   "execution_count": 1,
   "metadata": {},
   "outputs": [
    {
     "data": {
      "text/plain": [
       "'/Users/samuel.weller/Python/gone-phishin-xgov-hackathon/notebooks'"
      ]
     },
     "execution_count": 1,
     "metadata": {},
     "output_type": "execute_result"
    }
   ],
   "source": [
    "pwd"
   ]
  },
  {
   "cell_type": "code",
   "execution_count": 2,
   "metadata": {},
   "outputs": [
    {
     "name": "stdout",
     "output_type": "stream",
     "text": [
      "/Users/samuel.weller/Python/gone-phishin-xgov-hackathon\n"
     ]
    }
   ],
   "source": [
    "cd .."
   ]
  },
  {
   "cell_type": "code",
   "execution_count": 3,
   "metadata": {},
   "outputs": [],
   "source": [
    "# from constants import GOV_API_KEY, PST_PHONE_NUMBER, IPHONE_PHONE_NUMBER\n",
    "GOV_API_KEY = \"xgov_hack_live-6bcf111f-3cfc-4c63-87fa-5ed3b2c9d76a-aaf17273-a342-43d0-9ad9-8ea029a7299d\""
   ]
  },
  {
   "cell_type": "code",
   "execution_count": 4,
   "metadata": {},
   "outputs": [
    {
     "name": "stdout",
     "output_type": "stream",
     "text": [
      "nevincan.av.tr\n",
      "0             google.com\n",
      "1            youtube.com\n",
      "2           facebook.com\n",
      "3          instagram.com\n",
      "4            twitter.com\n",
      "             ...        \n",
      "141    www.express.co.uk\n",
      "142     www.news.sky.com\n",
      "143      www.argos.co.uk\n",
      "144    www.newsnow.co.uk\n",
      "145         www.imdb.com\n",
      "Name: site, Length: 146, dtype: object\n",
      "   qty_dot_url  qty_hyphen_url  qty_underline_url  qty_slash_url  \\\n",
      "0            3               0                  0              3   \n",
      "\n",
      "   qty_questionmark_url  qty_equal_url  qty_at_url  qty_and_url  \\\n",
      "0                     0              0           0            0   \n",
      "\n",
      "   qty_asterisk_url  qty_tld_url  ...  qty_slash_params  \\\n",
      "0                 0            0  ...                 0   \n",
      "\n",
      "   qty_questionmark_params  qty_equal_params  qty_at_params  qty_and_params  \\\n",
      "0                        0                 0              0               0   \n",
      "\n",
      "   qty_percent_params  params_length  tld_present_params  qty_params  \\\n",
      "0                   0              0                   0           1   \n",
      "\n",
      "   email_in_url  \n",
      "0             0  \n",
      "\n",
      "[1 rows x 38 columns]\n",
      "www.youtube.com\n",
      "0             google.com\n",
      "1            youtube.com\n",
      "2           facebook.com\n",
      "3          instagram.com\n",
      "4            twitter.com\n",
      "             ...        \n",
      "141    www.express.co.uk\n",
      "142     www.news.sky.com\n",
      "143      www.argos.co.uk\n",
      "144    www.newsnow.co.uk\n",
      "145         www.imdb.com\n",
      "Name: site, Length: 146, dtype: object\n",
      "-1\n"
     ]
    }
   ],
   "source": [
    "from flask_app.app import score\n",
    "\n",
    "from notifications_python_client.notifications import NotificationsAPIClient\n",
    "\n",
    "notifications_client = NotificationsAPIClient(GOV_API_KEY)"
   ]
  },
  {
   "cell_type": "code",
   "execution_count": 5,
   "metadata": {},
   "outputs": [],
   "source": [
    "import flask\n",
    "from flask import Flask, request\n",
    "import json\n",
    "import pandas as pd\n",
    "import pickle\n",
    "import xgboost\n",
    "from flask_app.extraction import url_extractor\n",
    "\n",
    "import regex as re\n",
    "\n",
    "import urllib.parse as urlparse\n",
    "from tld import get_tld\n",
    "import urllib.request as urlreq"
   ]
  },
  {
   "cell_type": "code",
   "execution_count": 6,
   "metadata": {},
   "outputs": [],
   "source": [
    "### Greeting msg / autoreply msg\n",
    "greeting_msg_template_id = 'fbd7abfa-1bf3-4fc2-9948-4a37a6ce9293'\n",
    "\n",
    "#### Template Spam Msgs\n",
    "spam_msg_tempalte_id = \"ed5edbf5-76e0-42be-9c06-3b3717ce00ad\"\n",
    "not_spam_msg_template_id = \"5e107ed8-c631-492f-ad7d-91c73919a42e\""
   ]
  },
  {
   "cell_type": "code",
   "execution_count": 7,
   "metadata": {},
   "outputs": [],
   "source": [
    "### Send text message:\n",
    "# phone_number = PST_PHONE_NUMBER\n",
    "\n",
    "# response = notifications_client.send_sms_notification(\n",
    "#     phone_number=phone_number, # required string\n",
    "#     template_id=greeting_msg_template_id, # required UUID string\n",
    "# )"
   ]
  },
  {
   "cell_type": "code",
   "execution_count": 8,
   "metadata": {},
   "outputs": [
    {
     "ename": "NameError",
     "evalue": "name 'response' is not defined",
     "output_type": "error",
     "traceback": [
      "\u001b[0;31m---------------------------------------------------------------------------\u001b[0m",
      "\u001b[0;31mNameError\u001b[0m                                 Traceback (most recent call last)",
      "Cell \u001b[0;32mIn[8], line 1\u001b[0m\n\u001b[0;32m----> 1\u001b[0m response\n",
      "\u001b[0;31mNameError\u001b[0m: name 'response' is not defined"
     ]
    }
   ],
   "source": [
    "response"
   ]
  },
  {
   "cell_type": "code",
   "execution_count": 13,
   "metadata": {},
   "outputs": [],
   "source": [
    "def get_received_texts():\n",
    "    \"\"\"Get all the recieved text messages to the digital phone number\"\"\"\n",
    "    return notifications_client.get_received_texts()"
   ]
  },
  {
   "cell_type": "code",
   "execution_count": 28,
   "metadata": {},
   "outputs": [],
   "source": [
    "def get_spam_score(url):\n",
    "    \n",
    "    \"\"\"Get the spam score of a given url\"\"\"\n",
    "    \n",
    "    # Convert to features df\n",
    "    data = url_extractor(url)\n",
    "\n",
    "    if type(data) is int:\n",
    "\n",
    "        if data == -1:\n",
    "            return 0\n",
    "            \n",
    "        if data == \"-1\":\n",
    "            return 0\n",
    "    \n",
    "    # Load model\n",
    "    model = pickle.load(open('xg_model.pkl', 'rb'))\n",
    "    \n",
    "    spam_score = round(model.predict_proba(data.to_numpy())[0][1], 2)\n",
    "\n",
    "    return spam_score"
   ]
  },
  {
   "cell_type": "code",
   "execution_count": 29,
   "metadata": {},
   "outputs": [],
   "source": [
    "def get_spam_classification(spam_score:float, threshold:float=0.75):\n",
    "\n",
    "    \"\"\"Get the text classfication or a spam score\"\"\"\n",
    "    if spam_score >= threshold:\n",
    "        spam_classfication = \"SPAM\"\n",
    "    else:\n",
    "        spam_classfication = \"NOT SPAM\"\n",
    "    \n",
    "    return spam_classfication"
   ]
  },
  {
   "cell_type": "code",
   "execution_count": 36,
   "metadata": {},
   "outputs": [
    {
     "ename": "AttributeError",
     "evalue": "'str' object has no attribute 'to_numpy'",
     "output_type": "error",
     "traceback": [
      "\u001b[0;31m---------------------------------------------------------------------------\u001b[0m",
      "\u001b[0;31mAttributeError\u001b[0m                            Traceback (most recent call last)",
      "Cell \u001b[0;32mIn[36], line 3\u001b[0m\n\u001b[1;32m      1\u001b[0m google_url \u001b[39m=\u001b[39m \u001b[39m\"\u001b[39m\u001b[39myoutube.com\u001b[39m\u001b[39m\"\u001b[39m\n\u001b[0;32m----> 3\u001b[0m google_spam_score \u001b[39m=\u001b[39m get_spam_score(google_url)\n\u001b[1;32m      5\u001b[0m google_spam_score\n",
      "Cell \u001b[0;32mIn[28], line 19\u001b[0m, in \u001b[0;36mget_spam_score\u001b[0;34m(url)\u001b[0m\n\u001b[1;32m     16\u001b[0m \u001b[39m# Load model\u001b[39;00m\n\u001b[1;32m     17\u001b[0m model \u001b[39m=\u001b[39m pickle\u001b[39m.\u001b[39mload(\u001b[39mopen\u001b[39m(\u001b[39m'\u001b[39m\u001b[39mxg_model.pkl\u001b[39m\u001b[39m'\u001b[39m, \u001b[39m'\u001b[39m\u001b[39mrb\u001b[39m\u001b[39m'\u001b[39m))\n\u001b[0;32m---> 19\u001b[0m spam_score \u001b[39m=\u001b[39m \u001b[39mround\u001b[39m(model\u001b[39m.\u001b[39mpredict_proba(data\u001b[39m.\u001b[39;49mto_numpy())[\u001b[39m0\u001b[39m][\u001b[39m1\u001b[39m], \u001b[39m2\u001b[39m)\n\u001b[1;32m     21\u001b[0m \u001b[39mreturn\u001b[39;00m spam_score\n",
      "\u001b[0;31mAttributeError\u001b[0m: 'str' object has no attribute 'to_numpy'"
     ]
    }
   ],
   "source": [
    "google_url = \"youtube.com\"\n",
    "\n",
    "google_spam_score = get_spam_score(google_url)\n",
    "\n",
    "google_spam_score"
   ]
  },
  {
   "cell_type": "code",
   "execution_count": 31,
   "metadata": {},
   "outputs": [
    {
     "data": {
      "text/plain": [
       "'NOT SPAM'"
      ]
     },
     "execution_count": 31,
     "metadata": {},
     "output_type": "execute_result"
    }
   ],
   "source": [
    "get_spam_classification(spam_score=google_spam_score)"
   ]
  },
  {
   "cell_type": "code",
   "execution_count": 32,
   "metadata": {},
   "outputs": [
    {
     "name": "stdout",
     "output_type": "stream",
     "text": [
      "evri.id-60.com\n",
      "0             google.com\n",
      "1            youtube.com\n",
      "2           facebook.com\n",
      "3          instagram.com\n",
      "4            twitter.com\n",
      "             ...        \n",
      "141    www.express.co.uk\n",
      "142     www.news.sky.com\n",
      "143      www.argos.co.uk\n",
      "144    www.newsnow.co.uk\n",
      "145         www.imdb.com\n",
      "Name: site, Length: 146, dtype: object\n"
     ]
    },
    {
     "data": {
      "text/plain": [
       "0.85"
      ]
     },
     "execution_count": 32,
     "metadata": {},
     "output_type": "execute_result"
    }
   ],
   "source": [
    "spam_url = \"https://evri.id-60.com\"\n",
    "\n",
    "spam_eg_spam_score = get_spam_score(spam_url)\n",
    "\n",
    "spam_eg_spam_score"
   ]
  },
  {
   "cell_type": "code",
   "execution_count": 33,
   "metadata": {},
   "outputs": [
    {
     "data": {
      "text/plain": [
       "'SPAM'"
      ]
     },
     "execution_count": 33,
     "metadata": {},
     "output_type": "execute_result"
    }
   ],
   "source": [
    "get_spam_classification(spam_score=spam_eg_spam_score)"
   ]
  },
  {
   "cell_type": "code",
   "execution_count": 34,
   "metadata": {},
   "outputs": [
    {
     "name": "stdout",
     "output_type": "stream",
     "text": [
      "{'content': 'www.google.com', 'created_at': '2023-03-31T10:44:21.808909Z', 'id': 'd28bbdde-26bc-419c-9014-91756ae8781c', 'notify_number': '07860003294', 'service_id': '6bcf111f-3cfc-4c63-87fa-5ed3b2c9d76a', 'user_number': '447935993222'}\n",
      "{'content': 'youtube.com', 'created_at': '2023-03-31T10:42:16.221224Z', 'id': '720c0975-90b6-4dc1-9ef7-bd923fd69b5d', 'notify_number': '07860003294', 'service_id': '6bcf111f-3cfc-4c63-87fa-5ed3b2c9d76a', 'user_number': '447935993222'}\n",
      "{'content': \"Here's my URL - youtube.com\", 'created_at': '2023-03-31T10:15:21.625476Z', 'id': 'ceec3e63-a2b3-4855-8f1d-0692bd371e6a', 'notify_number': '07860003294', 'service_id': '6bcf111f-3cfc-4c63-87fa-5ed3b2c9d76a', 'user_number': '447935993222'}\n",
      "{'content': \"Here's a link - youtube.com\", 'created_at': '2023-03-31T09:57:21.270841Z', 'id': '75fc7a76-d60d-4483-a6c8-fa0609955d37', 'notify_number': '07860003294', 'service_id': '6bcf111f-3cfc-4c63-87fa-5ed3b2c9d76a', 'user_number': '447935993222'}\n",
      "{'content': 'www.wikipedia.org', 'created_at': '2023-03-31T09:49:15.268657Z', 'id': 'd257935d-0121-4d0d-924a-29fce37857fb', 'notify_number': '07860003294', 'service_id': '6bcf111f-3cfc-4c63-87fa-5ed3b2c9d76a', 'user_number': '447935993222'}\n",
      "{'content': 'Https://Wikipedia.com', 'created_at': '2023-03-31T09:48:42.093209Z', 'id': '00dd83d3-300a-4aba-9eea-cb18703933fd', 'notify_number': '07860003294', 'service_id': '6bcf111f-3cfc-4c63-87fa-5ed3b2c9d76a', 'user_number': '447935993222'}\n",
      "{'content': 'Hi I have found this URL - https://www.cs-moneystart.fun', 'created_at': '2023-03-31T09:31:02.489903Z', 'id': 'c24175a8-6a25-42d2-86ff-f5a667321b61', 'notify_number': '07860003294', 'service_id': '6bcf111f-3cfc-4c63-87fa-5ed3b2c9d76a', 'user_number': '447935993222'}\n",
      "{'content': 'Thanks! I also have this dodgy link - https://kritimoneta23.Ru/', 'created_at': '2023-03-31T09:23:32.531118Z', 'id': '7d70d57a-a437-48fc-a37f-d82b85d44051', 'notify_number': '07860003294', 'service_id': '6bcf111f-3cfc-4c63-87fa-5ed3b2c9d76a', 'user_number': '447935993222'}\n",
      "{'content': 'Hello I have this dodgy link - www.LinkedIn.com', 'created_at': '2023-03-31T09:18:50.443698Z', 'id': '232904b5-5772-4766-8144-3bcd87c07a37', 'notify_number': '07860003294', 'service_id': '6bcf111f-3cfc-4c63-87fa-5ed3b2c9d76a', 'user_number': '447935993222'}\n",
      "{'content': 'www.google.co.uk', 'created_at': '2023-03-31T08:45:11.786192Z', 'id': '0833fc6b-35e2-4661-8c64-040c29e8f7d3', 'notify_number': '07860003294', 'service_id': '6bcf111f-3cfc-4c63-87fa-5ed3b2c9d76a', 'user_number': '447923370598'}\n",
      "{'content': 'https://evri.id-35.com', 'created_at': '2023-03-31T08:44:58.352047Z', 'id': '235153a5-1e27-4b24-bd1c-6c4f0a311eed', 'notify_number': '07860003294', 'service_id': '6bcf111f-3cfc-4c63-87fa-5ed3b2c9d76a', 'user_number': '447923370598'}\n",
      "{'content': 'https://evri.id-35.com', 'created_at': '2023-03-31T08:44:16.522418Z', 'id': '1aa336a3-88dc-420f-8b55-450f824f2b73', 'notify_number': '07860003294', 'service_id': '6bcf111f-3cfc-4c63-87fa-5ed3b2c9d76a', 'user_number': '447923370598'}\n",
      "{'content': 'https://evri.id-35.com', 'created_at': '2023-03-31T08:43:15.779531Z', 'id': '46875dbb-01ce-4464-95f4-63d4a3c09008', 'notify_number': '07860003294', 'service_id': '6bcf111f-3cfc-4c63-87fa-5ed3b2c9d76a', 'user_number': '447923370598'}\n",
      "{'content': 'We will deliver your Amazon parcel today between 08:22-09:22, if not in for your driver you have options www.dpd.co.uk/b/6dcLdSq1Ggb6', 'created_at': '2023-03-31T08:39:37.765515Z', 'id': 'cf341fab-d8b4-4d36-b2b4-d05d8104412d', 'notify_number': '07860003294', 'service_id': '6bcf111f-3cfc-4c63-87fa-5ed3b2c9d76a', 'user_number': '447818654772'}\n",
      "{'content': 'www.google.co.uk', 'created_at': '2023-03-30T22:25:34.671728Z', 'id': '3ec795cd-ef12-4b43-b126-b223c3a912b4', 'notify_number': '07860003294', 'service_id': '6bcf111f-3cfc-4c63-87fa-5ed3b2c9d76a', 'user_number': '447923370598'}\n",
      "{'content': 'www.google.co.uk', 'created_at': '2023-03-30T22:24:45.598592Z', 'id': 'a4cebd52-c990-4ae4-bdbe-4ad2a7124e6c', 'notify_number': '07860003294', 'service_id': '6bcf111f-3cfc-4c63-87fa-5ed3b2c9d76a', 'user_number': '447923370598'}\n",
      "{'content': 'www google.co.uk', 'created_at': '2023-03-30T22:24:36.607246Z', 'id': '0432e97f-71ef-4abe-8bc7-bd43a9221957', 'notify_number': '07860003294', 'service_id': '6bcf111f-3cfc-4c63-87fa-5ed3b2c9d76a', 'user_number': '447923370598'}\n",
      "{'content': 'www.google.co.uk', 'created_at': '2023-03-30T22:23:16.905471Z', 'id': 'b3760a6f-31d9-4970-b96f-d385b023b72d', 'notify_number': '07860003294', 'service_id': '6bcf111f-3cfc-4c63-87fa-5ed3b2c9d76a', 'user_number': '447923370598'}\n",
      "{'content': 'www.google.com', 'created_at': '2023-03-30T22:23:00.556655Z', 'id': '31b67912-9a7c-4129-aeaf-28b3e2cb81e7', 'notify_number': '07860003294', 'service_id': '6bcf111f-3cfc-4c63-87fa-5ed3b2c9d76a', 'user_number': '447923370598'}\n",
      "{'content': 'www.google.com', 'created_at': '2023-03-30T22:22:17.593662Z', 'id': 'a87de1b0-dbc7-491e-a65f-78a205d864b2', 'notify_number': '07860003294', 'service_id': '6bcf111f-3cfc-4c63-87fa-5ed3b2c9d76a', 'user_number': '447923370598'}\n",
      "{'content': 'www.google.com', 'created_at': '2023-03-30T22:20:53.000218Z', 'id': '609e1a65-bdfa-4f7e-87c9-57886c2921ef', 'notify_number': '07860003294', 'service_id': '6bcf111f-3cfc-4c63-87fa-5ed3b2c9d76a', 'user_number': '447923370598'}\n",
      "{'content': 'www.google.com', 'created_at': '2023-03-30T22:19:26.802124Z', 'id': '32c5ce32-ed05-4825-8cd6-200cab9cef5a', 'notify_number': '07860003294', 'service_id': '6bcf111f-3cfc-4c63-87fa-5ed3b2c9d76a', 'user_number': '447923370598'}\n",
      "{'content': 'www.google.com', 'created_at': '2023-03-30T22:17:53.531081Z', 'id': 'fba5fbd8-c72f-4cb6-a31f-41a123a6146a', 'notify_number': '07860003294', 'service_id': '6bcf111f-3cfc-4c63-87fa-5ed3b2c9d76a', 'user_number': '447923370598'}\n",
      "{'content': 'www.google.com', 'created_at': '2023-03-30T22:16:14.380304Z', 'id': '1a8f02b1-c673-48b7-87f0-c05e36e7b408', 'notify_number': '07860003294', 'service_id': '6bcf111f-3cfc-4c63-87fa-5ed3b2c9d76a', 'user_number': '447923370598'}\n",
      "{'content': 'www.google.co.uk', 'created_at': '2023-03-30T22:15:41.295462Z', 'id': '5fc07ea4-925f-465b-92cf-4c263699a681', 'notify_number': '07860003294', 'service_id': '6bcf111f-3cfc-4c63-87fa-5ed3b2c9d76a', 'user_number': '447923370598'}\n",
      "{'content': 'https://evri.id-35.com', 'created_at': '2023-03-30T21:38:06.904474Z', 'id': 'c62ba4bb-27f7-45bf-9668-cdd4191d670f', 'notify_number': '07860003294', 'service_id': '6bcf111f-3cfc-4c63-87fa-5ed3b2c9d76a', 'user_number': '447923370598'}\n",
      "{'content': 'https://evri.id-35.com', 'created_at': '2023-03-30T21:37:38.912321Z', 'id': '56484276-f605-4057-afd0-1bb24e64a565', 'notify_number': '07860003294', 'service_id': '6bcf111f-3cfc-4c63-87fa-5ed3b2c9d76a', 'user_number': '447923370598'}\n",
      "{'content': 'https://esri-5.g', 'created_at': '2023-03-30T21:33:37.100032Z', 'id': '6ca63ed7-9f20-4f18-a3da-94fc98d70d13', 'notify_number': '07860003294', 'service_id': '6bcf111f-3cfc-4c63-87fa-5ed3b2c9d76a', 'user_number': '447923370598'}\n",
      "{'content': 'https://www.google.com', 'created_at': '2023-03-30T21:33:08.531391Z', 'id': 'c1d6bdbc-a227-4b55-a16d-a0e41604889c', 'notify_number': '07860003294', 'service_id': '6bcf111f-3cfc-4c63-87fa-5ed3b2c9d76a', 'user_number': '447923370598'}\n",
      "{'content': 'https://www.google.com', 'created_at': '2023-03-30T21:27:17.198453Z', 'id': 'a3e4191d-8226-4a40-9614-83ae00c1f71a', 'notify_number': '07860003294', 'service_id': '6bcf111f-3cfc-4c63-87fa-5ed3b2c9d76a', 'user_number': '447923370598'}\n",
      "{'content': 'Can you please check this url - www.google.com', 'created_at': '2023-03-30T15:48:34.684975Z', 'id': '22e8ed36-a60f-422f-a067-bf2fad2532c3', 'notify_number': '07860003294', 'service_id': '6bcf111f-3cfc-4c63-87fa-5ed3b2c9d76a', 'user_number': '447935993222'}\n",
      "{'content': '15964', 'created_at': '2023-03-30T14:50:55.315855Z', 'id': '00fa445b-2cb9-44e6-a00d-70eb79f5ef59', 'notify_number': '07860003294', 'service_id': '6bcf111f-3cfc-4c63-87fa-5ed3b2c9d76a', 'user_number': '447935993222'}\n",
      "{'content': 'Heres my spam link', 'created_at': '2023-03-30T14:32:51.706282Z', 'id': '15656acb-17dd-467d-8299-0264a940c0ea', 'notify_number': '07860003294', 'service_id': '6bcf111f-3cfc-4c63-87fa-5ed3b2c9d76a', 'user_number': '447935993222'}\n",
      "{'content': 'Here is my spam link', 'created_at': '2023-03-30T12:34:42.389994Z', 'id': 'decc2206-000e-4160-8f07-6a298e5f51e3', 'notify_number': '07860003294', 'service_id': '6bcf111f-3cfc-4c63-87fa-5ed3b2c9d76a', 'user_number': '447935993222'}\n",
      "['d28bbdde-26bc-419c-9014-91756ae8781c', '720c0975-90b6-4dc1-9ef7-bd923fd69b5d', 'ceec3e63-a2b3-4855-8f1d-0692bd371e6a', '75fc7a76-d60d-4483-a6c8-fa0609955d37', 'd257935d-0121-4d0d-924a-29fce37857fb', '00dd83d3-300a-4aba-9eea-cb18703933fd', 'c24175a8-6a25-42d2-86ff-f5a667321b61', '7d70d57a-a437-48fc-a37f-d82b85d44051', '232904b5-5772-4766-8144-3bcd87c07a37', '0833fc6b-35e2-4661-8c64-040c29e8f7d3', '235153a5-1e27-4b24-bd1c-6c4f0a311eed', '1aa336a3-88dc-420f-8b55-450f824f2b73', '46875dbb-01ce-4464-95f4-63d4a3c09008', 'cf341fab-d8b4-4d36-b2b4-d05d8104412d', '3ec795cd-ef12-4b43-b126-b223c3a912b4', 'a4cebd52-c990-4ae4-bdbe-4ad2a7124e6c', '0432e97f-71ef-4abe-8bc7-bd43a9221957', 'b3760a6f-31d9-4970-b96f-d385b023b72d', '31b67912-9a7c-4129-aeaf-28b3e2cb81e7', 'a87de1b0-dbc7-491e-a65f-78a205d864b2', '609e1a65-bdfa-4f7e-87c9-57886c2921ef', '32c5ce32-ed05-4825-8cd6-200cab9cef5a', 'fba5fbd8-c72f-4cb6-a31f-41a123a6146a', '1a8f02b1-c673-48b7-87f0-c05e36e7b408', '5fc07ea4-925f-465b-92cf-4c263699a681', 'c62ba4bb-27f7-45bf-9668-cdd4191d670f', '56484276-f605-4057-afd0-1bb24e64a565', '6ca63ed7-9f20-4f18-a3da-94fc98d70d13', 'c1d6bdbc-a227-4b55-a16d-a0e41604889c', 'a3e4191d-8226-4a40-9614-83ae00c1f71a', '22e8ed36-a60f-422f-a067-bf2fad2532c3', '00fa445b-2cb9-44e6-a00d-70eb79f5ef59', '15656acb-17dd-467d-8299-0264a940c0ea', 'decc2206-000e-4160-8f07-6a298e5f51e3']\n",
      "{'content': \"Here's my url youtube.com\", 'created_at': '2023-03-31T10:53:22.484374Z', 'id': 'db8dbf99-dafc-44f7-a6ff-193b9d695be8', 'notify_number': '07860003294', 'service_id': '6bcf111f-3cfc-4c63-87fa-5ed3b2c9d76a', 'user_number': '447935993222'}\n",
      "Getting: here's my url youtube.com\n",
      "some sort of error occurred, let's hope it's not important\n",
      "'str' object has no attribute 'to_numpy'\n",
      "{'content': \"Here's my url youtube.com\", 'created_at': '2023-03-31T10:53:22.484374Z', 'id': 'db8dbf99-dafc-44f7-a6ff-193b9d695be8', 'notify_number': '07860003294', 'service_id': '6bcf111f-3cfc-4c63-87fa-5ed3b2c9d76a', 'user_number': '447935993222'}\n",
      "Getting: here's my url youtube.com\n",
      "some sort of error occurred, let's hope it's not important\n",
      "'str' object has no attribute 'to_numpy'\n",
      "{'content': \"Here's my url youtube.com\", 'created_at': '2023-03-31T10:53:22.484374Z', 'id': 'db8dbf99-dafc-44f7-a6ff-193b9d695be8', 'notify_number': '07860003294', 'service_id': '6bcf111f-3cfc-4c63-87fa-5ed3b2c9d76a', 'user_number': '447935993222'}\n",
      "Getting: here's my url youtube.com\n",
      "some sort of error occurred, let's hope it's not important\n",
      "'str' object has no attribute 'to_numpy'\n",
      "{'content': \"Here's my url youtube.com\", 'created_at': '2023-03-31T10:53:22.484374Z', 'id': 'db8dbf99-dafc-44f7-a6ff-193b9d695be8', 'notify_number': '07860003294', 'service_id': '6bcf111f-3cfc-4c63-87fa-5ed3b2c9d76a', 'user_number': '447935993222'}\n",
      "Getting: here's my url youtube.com\n",
      "some sort of error occurred, let's hope it's not important\n",
      "'str' object has no attribute 'to_numpy'\n",
      "{'content': \"Here's my url youtube.com\", 'created_at': '2023-03-31T10:53:22.484374Z', 'id': 'db8dbf99-dafc-44f7-a6ff-193b9d695be8', 'notify_number': '07860003294', 'service_id': '6bcf111f-3cfc-4c63-87fa-5ed3b2c9d76a', 'user_number': '447935993222'}\n",
      "Getting: here's my url youtube.com\n",
      "some sort of error occurred, let's hope it's not important\n",
      "'str' object has no attribute 'to_numpy'\n",
      "{'content': \"Here's my url youtube.com\", 'created_at': '2023-03-31T10:53:22.484374Z', 'id': 'db8dbf99-dafc-44f7-a6ff-193b9d695be8', 'notify_number': '07860003294', 'service_id': '6bcf111f-3cfc-4c63-87fa-5ed3b2c9d76a', 'user_number': '447935993222'}\n",
      "Getting: here's my url youtube.com\n",
      "some sort of error occurred, let's hope it's not important\n",
      "'str' object has no attribute 'to_numpy'\n",
      "{'content': \"Here's my url youtube.com\", 'created_at': '2023-03-31T10:53:22.484374Z', 'id': 'db8dbf99-dafc-44f7-a6ff-193b9d695be8', 'notify_number': '07860003294', 'service_id': '6bcf111f-3cfc-4c63-87fa-5ed3b2c9d76a', 'user_number': '447935993222'}\n",
      "Getting: here's my url youtube.com\n",
      "some sort of error occurred, let's hope it's not important\n",
      "'str' object has no attribute 'to_numpy'\n",
      "{'content': \"Here's my url youtube.com\", 'created_at': '2023-03-31T10:53:22.484374Z', 'id': 'db8dbf99-dafc-44f7-a6ff-193b9d695be8', 'notify_number': '07860003294', 'service_id': '6bcf111f-3cfc-4c63-87fa-5ed3b2c9d76a', 'user_number': '447935993222'}\n",
      "Getting: here's my url youtube.com\n",
      "some sort of error occurred, let's hope it's not important\n",
      "'str' object has no attribute 'to_numpy'\n",
      "{'content': \"Here's my url youtube.com\", 'created_at': '2023-03-31T10:53:22.484374Z', 'id': 'db8dbf99-dafc-44f7-a6ff-193b9d695be8', 'notify_number': '07860003294', 'service_id': '6bcf111f-3cfc-4c63-87fa-5ed3b2c9d76a', 'user_number': '447935993222'}\n",
      "Getting: here's my url youtube.com\n",
      "some sort of error occurred, let's hope it's not important\n",
      "'str' object has no attribute 'to_numpy'\n",
      "{'content': \"Here's my url youtube.com\", 'created_at': '2023-03-31T10:53:22.484374Z', 'id': 'db8dbf99-dafc-44f7-a6ff-193b9d695be8', 'notify_number': '07860003294', 'service_id': '6bcf111f-3cfc-4c63-87fa-5ed3b2c9d76a', 'user_number': '447935993222'}\n",
      "Getting: here's my url youtube.com\n",
      "some sort of error occurred, let's hope it's not important\n",
      "'str' object has no attribute 'to_numpy'\n",
      "{'content': \"Here's my url youtube.com\", 'created_at': '2023-03-31T10:53:22.484374Z', 'id': 'db8dbf99-dafc-44f7-a6ff-193b9d695be8', 'notify_number': '07860003294', 'service_id': '6bcf111f-3cfc-4c63-87fa-5ed3b2c9d76a', 'user_number': '447935993222'}\n",
      "Getting: here's my url youtube.com\n",
      "some sort of error occurred, let's hope it's not important\n",
      "'str' object has no attribute 'to_numpy'\n"
     ]
    },
    {
     "ename": "KeyboardInterrupt",
     "evalue": "",
     "output_type": "error",
     "traceback": [
      "\u001b[0;31m---------------------------------------------------------------------------\u001b[0m",
      "\u001b[0;31mKeyboardInterrupt\u001b[0m                         Traceback (most recent call last)",
      "Cell \u001b[0;32mIn[34], line 59\u001b[0m\n\u001b[1;32m     56\u001b[0m         \u001b[39mprint\u001b[39m(\u001b[39m\"\u001b[39m\u001b[39msome sort of error occurred, let\u001b[39m\u001b[39m'\u001b[39m\u001b[39ms hope it\u001b[39m\u001b[39m'\u001b[39m\u001b[39ms not important\u001b[39m\u001b[39m\"\u001b[39m)\n\u001b[1;32m     57\u001b[0m         \u001b[39mprint\u001b[39m(e)\n\u001b[0;32m---> 59\u001b[0m time\u001b[39m.\u001b[39;49msleep(\u001b[39m1\u001b[39;49m)\n",
      "\u001b[0;31mKeyboardInterrupt\u001b[0m: "
     ]
    }
   ],
   "source": [
    "import time\n",
    "texts = get_received_texts()\n",
    "\n",
    "existing = []\n",
    "\n",
    "for item in texts['received_text_messages']:\n",
    "    existing.append(item['id'])\n",
    "    print(item)\n",
    "\n",
    "print(existing)\n",
    "\n",
    "while True:\n",
    "\n",
    "    # Get texts\n",
    "    texts = get_received_texts()\n",
    "\n",
    "    for item in texts['received_text_messages']:\n",
    "\n",
    "        if item['id'] in existing:\n",
    "            break\n",
    "\n",
    "        print(item)\n",
    "        \n",
    "        try:\n",
    "            # Get score and return text\n",
    "            print(\"Getting: \" + item['content'].lower())\n",
    "            print(get_spam_score(item['content'].lower()))\n",
    "\n",
    "            if get_spam_score(item['content'].lower()) == 0:\n",
    "\n",
    "                # Return NOT SPAM\n",
    "                response = notifications_client.send_sms_notification(\n",
    "                    phone_number=item['user_number'], # required string\n",
    "                    template_id=not_spam_msg_template_id, # required UUID string\n",
    "                )\n",
    "                \n",
    "            elif get_spam_score(item['content'].lower()) > 0.75:\n",
    "                \n",
    "                # Return SPAM message\n",
    "                response = notifications_client.send_sms_notification(\n",
    "                    phone_number=item['user_number'], # required string\n",
    "                    template_id=spam_msg_tempalte_id, # required UUID string\n",
    "                )\n",
    "\n",
    "            else:\n",
    "\n",
    "                # Return NOT SPAM\n",
    "                response = notifications_client.send_sms_notification(\n",
    "                    phone_number=item['user_number'], # required string\n",
    "                    template_id=not_spam_msg_template_id, # required UUID string\n",
    "                )\n",
    "\n",
    "            #Add to existing\n",
    "            existing.append(item['id'])\n",
    "        except Exception as e:\n",
    "            print(\"some sort of error occurred, let's hope it's not important\")\n",
    "            print(e)\n",
    "\n",
    "    time.sleep(1)"
   ]
  },
  {
   "cell_type": "code",
   "execution_count": 6,
   "metadata": {},
   "outputs": [
    {
     "name": "stdout",
     "output_type": "stream",
     "text": [
      "0\n",
      "<regex.Match object; span=(0, 14), match='www.google.com'>\n",
      "['http://www.google.com']\n",
      "   qty_dot_url  qty_hyphen_url  qty_underline_url  qty_slash_url  \\\n",
      "0            2               0                  0              2   \n",
      "\n",
      "   qty_questionmark_url  qty_equal_url  qty_at_url  qty_and_url  \\\n",
      "0                     0              0           0            0   \n",
      "\n",
      "   qty_asterisk_url  qty_tld_url  ...  qty_slash_params  \\\n",
      "0                 0            0  ...                 0   \n",
      "\n",
      "   qty_questionmark_params  qty_equal_params  qty_at_params  qty_and_params  \\\n",
      "0                        0                 0              0               0   \n",
      "\n",
      "   qty_percent_params  params_length  tld_present_params  qty_params  \\\n",
      "0                   0              0                   0           1   \n",
      "\n",
      "   email_in_url  \n",
      "0             0  \n",
      "\n",
      "[1 rows x 38 columns]\n"
     ]
    }
   ],
   "source": [
    "from flask_app.extraction import url_extractor\n",
    "\n",
    "print(url_extractor('www.google.com/'))"
   ]
  },
  {
   "cell_type": "code",
   "execution_count": 46,
   "metadata": {},
   "outputs": [
    {
     "name": "stdout",
     "output_type": "stream",
     "text": [
      "nevincan.av.tr\n",
      "0            google.com\n",
      "1           youtube.com\n",
      "2          facebook.com\n",
      "3         instagram.com\n",
      "4           twitter.com\n",
      "            ...        \n",
      "95       www.fandom.com\n",
      "96        www.globo.com\n",
      "97         www.ebay.com\n",
      "98    www.stripchat.com\n",
      "99        www.aajtak.in\n",
      "Name: site, Length: 100, dtype: object\n",
      "   qty_dot_url  qty_hyphen_url  qty_underline_url  qty_slash_url  \\\n",
      "0            3               0                  0              3   \n",
      "\n",
      "   qty_questionmark_url  qty_equal_url  qty_at_url  qty_and_url  \\\n",
      "0                     0              0           0            0   \n",
      "\n",
      "   qty_asterisk_url  qty_tld_url  ...  qty_slash_params  \\\n",
      "0                 0            0  ...                 0   \n",
      "\n",
      "   qty_questionmark_params  qty_equal_params  qty_at_params  qty_and_params  \\\n",
      "0                        0                 0              0               0   \n",
      "\n",
      "   qty_percent_params  params_length  tld_present_params  qty_params  \\\n",
      "0                   0              0                   0           1   \n",
      "\n",
      "   email_in_url  \n",
      "0             0  \n",
      "\n",
      "[1 rows x 38 columns]\n",
      "www.youtube.com\n",
      "0            google.com\n",
      "1           youtube.com\n",
      "2          facebook.com\n",
      "3         instagram.com\n",
      "4           twitter.com\n",
      "            ...        \n",
      "95       www.fandom.com\n",
      "96        www.globo.com\n",
      "97         www.ebay.com\n",
      "98    www.stripchat.com\n",
      "99        www.aajtak.in\n",
      "Name: site, Length: 100, dtype: object\n",
      "-1\n"
     ]
    }
   ],
   "source": [
    "import pandas as pd\n",
    "import regex as re\n",
    "\n",
    "import urllib.parse as urlparse\n",
    "from tld import get_tld\n",
    "import urllib.request as urlreq\n",
    "\n",
    "def url_extractor(X):\n",
    "\n",
    "    cols = ['qty_dot_url','qty_hyphen_url','qty_underline_url','qty_slash_url','qty_questionmark_url',\n",
    "            'qty_equal_url','qty_at_url','qty_and_url','qty_asterisk_url','qty_tld_url','length_url',\n",
    "            'qty_dot_domain','qty_hyphen_domain','qty_vowels_domain','domain_length','qty_dot_directory',\n",
    "            'qty_hyphen_directory','qty_underline_directory','qty_slash_directory','qty_equal_directory',\n",
    "            'qty_at_directory','qty_and_directory','qty_asterisk_directory','qty_percent_directory',\n",
    "            'directory_length','qty_dot_params','qty_hyphen_params','qty_underline_params','qty_slash_params',\n",
    "            'qty_questionmark_params','qty_equal_params','qty_at_params','qty_and_params','qty_percent_params',\n",
    "            'params_length','tld_present_params','qty_params','email_in_url'] \n",
    "    \n",
    "    \n",
    "    url_list = []\n",
    "\n",
    "    if X[-1] == '/':\n",
    "        X = X[:-1]\n",
    "\n",
    "    myString = X\n",
    "    url_test = re.search(\"(?P<url>https?://[^\\s]+)\", myString)\n",
    "\n",
    "    if url_test is None:\n",
    "        url_test = re.search(\"(?P<url>http?://[^\\s]+)\", myString)\n",
    "\n",
    "    if url_test is None:\n",
    "        url_test = re.search(\"(?P<url>www?[^\\s]+)\", myString)\n",
    "    \n",
    "    if url_test is None:\n",
    "        return str(-1)\n",
    "\n",
    "    url_test = url_test.group(\"url\")\n",
    "\n",
    "    if url_test[0:3] == 'www':\n",
    "        url_test = 'http://' + url_test\n",
    "\n",
    "    url_list.append(url_test)\n",
    "\n",
    "    new_df = []\n",
    "\n",
    "    for url_test in url_list:\n",
    "\n",
    "        underline_pattern = re.compile(r'__(.*?)__') \n",
    "        #url_test = str(url_test)\n",
    "        path = urlparse.urlparse(url_test)\n",
    "\n",
    "        whitelist = pd.read_csv('flask_app/whitelist.csv')\n",
    "\n",
    "        print(path.netloc)\n",
    "        print(whitelist['site'])\n",
    "\n",
    "        if path.netloc in whitelist['site'].to_list():\n",
    "            return -1\n",
    "\n",
    "\n",
    "        #Extracting column information\n",
    "\n",
    "        qty_dot_url = url_test.count('.')\n",
    "        qty_hyphen_url = url_test.count('-')\n",
    "        qty_underline_url = re.findall(underline_pattern, url_test)\n",
    "        qty_slash_url = url_test.count('/')\n",
    "        qty_questionmark_url = url_test.count('?')\n",
    "        qty_equal_url = url_test.count('=')\n",
    "        qty_at_url = url_test.count('@')\n",
    "        qty_and_url = url_test.count('&')\n",
    "        qty_asterisk_url = url_test.count('*')\n",
    "        qty_tld_url = url_test.count('~')\n",
    "        length_url = len(url_test)\n",
    "\n",
    "        if not qty_underline_url:\n",
    "            qty_underline_url = 0\n",
    "\n",
    "        qty_dot_domain = path.netloc.count('.')\n",
    "        qty_hyphen_domain = path.netloc.count('-')\n",
    "        qty_vowels_domain = len([char for char in path.netloc if char in \"aeiouAEIOU\"])\n",
    "        domain_length = len(path.netloc)\n",
    "\n",
    "\n",
    "        qty_dot_directory = path.path.count('.')\n",
    "        qty_hyphen_directory = path.path.count('-')\n",
    "        qty_underline_directory = re.findall(underline_pattern, path.path)\n",
    "        qty_slash_directory = path.path.count('/')\n",
    "        qty_equal_directory = path.path.count('=')\n",
    "        qty_at_directory = path.path.count('@')\n",
    "        qty_and_directory = path.path.count('&')\n",
    "        qty_asterisk_directory = path.path.count('*')\n",
    "        qty_percent_directory = path.path.count('%')\n",
    "        directory_length = len(path.path)\n",
    "\n",
    "        if not qty_underline_directory:\n",
    "            qty_underline_directory = 0\n",
    "\n",
    "\n",
    "        qty_dot_params = path.query.count('.')\n",
    "        qty_hyphen_params = path.query.count('-')\n",
    "        qty_underline_params = re.findall(underline_pattern, path.query)\n",
    "        qty_slash_params = path.query.count('/')\n",
    "        qty_questionmark_params = path.query.count('?')\n",
    "        qty_equal_params = path.query.count('=')\n",
    "        qty_at_params = path.query.count('@')\n",
    "        qty_and_params = path.query.count('&')\n",
    "        qty_percent_params = path.query.count('%')\n",
    "        params_length = len(path.query)\n",
    "\n",
    "        if not qty_underline_params:\n",
    "            qty_underline_params = 0\n",
    "\n",
    "        qty_params = 0\n",
    "        if qty_dot_params > 0:\n",
    "            qty_params = qty_params+1\n",
    "        if qty_hyphen_params > 0:\n",
    "            qty_params = qty_params+1\n",
    "        if qty_underline_params > 0: \n",
    "            qty_params = qty_params+1\n",
    "        if qty_slash_params > 0: \n",
    "            qty_params = qty_params+1  \n",
    "        if qty_questionmark_params > 0:\n",
    "            qty_params = qty_params+1 \n",
    "        if qty_equal_params > 0:\n",
    "            qty_params = qty_params+1 \n",
    "        if qty_at_params > 0:\n",
    "            qty_params = qty_params+1 \n",
    "        if qty_and_params > 0:\n",
    "            qty_params = qty_params+1 \n",
    "        if qty_percent_params > 0:\n",
    "            qty_params = qty_params+1 \n",
    "\n",
    "        tld_present_params = get_tld(url_test)\n",
    "\n",
    "        if len(tld_present_params) > 0:\n",
    "            tld_present_params = 1\n",
    "        else:\n",
    "            tld_present_params = 0\n",
    "\n",
    "\n",
    "        email_in_url = re.findall(r'[\\w.+-]+@[\\w-]+\\.[\\w.-]+', url_test)\n",
    "        if len(email_in_url) > 0:\n",
    "            email_in_url = 1\n",
    "        else:\n",
    "            email_in_url = 0\n",
    "\n",
    "\n",
    "        #adding to df\n",
    "\n",
    "        row1 = [qty_dot_url,qty_hyphen_url,qty_underline_url,qty_slash_url,qty_questionmark_url,qty_equal_url,\n",
    "            qty_at_url,qty_and_url,qty_asterisk_url,qty_tld_url,length_url,qty_dot_domain,qty_hyphen_domain,\n",
    "            qty_vowels_domain,domain_length,qty_dot_directory,qty_hyphen_directory,qty_underline_directory,\n",
    "            qty_slash_directory,qty_equal_directory,qty_at_directory,qty_and_directory,qty_asterisk_directory,\n",
    "            qty_percent_directory,directory_length,qty_dot_params,qty_hyphen_params,qty_underline_params,\n",
    "            qty_slash_params,qty_questionmark_params,qty_equal_params,qty_at_params,qty_and_params,\n",
    "            qty_percent_params,params_length,qty_params,tld_present_params,email_in_url] \n",
    "\n",
    "        new_df.append(row1)\n",
    "\n",
    "    combined = pd.DataFrame(new_df, columns=cols)\n",
    "    return combined\n",
    "\n",
    "\n",
    "print(url_extractor(\"This is my tweet check it out https://nevincan.av.tr/otp.html\"))\n",
    "print(url_extractor('www.youtube.com'))\n"
   ]
  },
  {
   "cell_type": "code",
   "execution_count": 29,
   "metadata": {},
   "outputs": [
    {
     "name": "stdout",
     "output_type": "stream",
     "text": [
      "google.com\n"
     ]
    }
   ],
   "source": [
    "whitelist = pd.read_csv('flask_app/whitelist.csv')\n",
    "print(whitelist['site'][0])"
   ]
  },
  {
   "cell_type": "code",
   "execution_count": 43,
   "metadata": {},
   "outputs": [
    {
     "data": {
      "text/plain": [
       "False"
      ]
     },
     "execution_count": 43,
     "metadata": {},
     "output_type": "execute_result"
    }
   ],
   "source": [
    "'www.youtube.com' in whitelist['site']"
   ]
  },
  {
   "cell_type": "code",
   "execution_count": 45,
   "metadata": {},
   "outputs": [
    {
     "name": "stdout",
     "output_type": "stream",
     "text": [
      "<class 'str'>\n"
     ]
    }
   ],
   "source": [
    "whitelist = pd.read_csv('flask_app/whitelist.csv')\n",
    "print(type(whitelist['site']))\n"
   ]
  },
  {
   "cell_type": "code",
   "execution_count": null,
   "metadata": {},
   "outputs": [],
   "source": []
  }
 ],
 "metadata": {
  "kernelspec": {
   "display_name": "xgov_hack_venv",
   "language": "python",
   "name": "python3"
  },
  "language_info": {
   "codemirror_mode": {
    "name": "ipython",
    "version": 3
   },
   "file_extension": ".py",
   "mimetype": "text/x-python",
   "name": "python",
   "nbconvert_exporter": "python",
   "pygments_lexer": "ipython3",
   "version": "3.9.6"
  }
 },
 "nbformat": 4,
 "nbformat_minor": 2
}
