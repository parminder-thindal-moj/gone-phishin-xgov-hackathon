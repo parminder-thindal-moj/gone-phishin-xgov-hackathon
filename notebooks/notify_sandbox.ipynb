{
 "cells": [
  {
   "cell_type": "code",
   "execution_count": null,
   "metadata": {},
   "outputs": [],
   "source": [
    "pwd"
   ]
  },
  {
   "cell_type": "code",
   "execution_count": null,
   "metadata": {},
   "outputs": [],
   "source": [
    "cd .."
   ]
  },
  {
   "cell_type": "code",
   "execution_count": null,
   "metadata": {},
   "outputs": [],
   "source": [
    "from constants import GOV_API_KEY\n",
    "\n",
    "import flask\n",
    "from flask import Flask, request\n",
    "from flask_app.extraction import url_extractor\n",
    "\n",
    "import json\n",
    "import pandas as pd\n",
    "import pickle\n",
    "import xgboost\n",
    "import regex as re\n",
    "\n",
    "import urllib.parse as urlparse\n",
    "from tld import get_tld\n",
    "import urllib.request as urlreq\n",
    "import time"
   ]
  },
  {
   "cell_type": "code",
   "execution_count": null,
   "metadata": {},
   "outputs": [],
   "source": [
    "from notifications_python_client.notifications import NotificationsAPIClient\n",
    "from utils import SPAM_MSG_ID, NOT_SPAM_MSG_ID, SPAM_THRESHOLD\n",
    "from functions.preprocessing import get_all_received_texts, get_sms_id, get_user_phone_number, get_all_sms_ids, get_spam_score, get_spam_classification, set_sms_id_to_send, send_sms_msg, get_sms_msg"
   ]
  },
  {
   "cell_type": "code",
   "execution_count": null,
   "metadata": {},
   "outputs": [],
   "source": [
    "google_url = \"https://google.com\"\n",
    "\n",
    "google_spam_score = get_spam_score(google_url)\n",
    "\n",
    "google_spam_score"
   ]
  },
  {
   "cell_type": "code",
   "execution_count": null,
   "metadata": {},
   "outputs": [],
   "source": [
    "get_spam_classification(spam_score=google_spam_score, SPAM_THRESHOLD=SPAM_THRESHOLD)"
   ]
  },
  {
   "cell_type": "code",
   "execution_count": null,
   "metadata": {},
   "outputs": [],
   "source": [
    "spam_url = \"https://evri.id-60.com\"\n",
    "\n",
    "spam_eg_spam_score = get_spam_score(spam_url)\n",
    "\n",
    "spam_eg_spam_score"
   ]
  },
  {
   "cell_type": "code",
   "execution_count": null,
   "metadata": {},
   "outputs": [],
   "source": [
    "get_spam_classification(spam_score=spam_eg_spam_score, SPAM_THRESHOLD=SPAM_THRESHOLD)"
   ]
  },
  {
   "cell_type": "code",
   "execution_count": null,
   "metadata": {},
   "outputs": [],
   "source": [
    "### Set the Notify API Client\n",
    "api_client = NotificationsAPIClient(GOV_API_KEY)"
   ]
  },
  {
   "cell_type": "code",
   "execution_count": null,
   "metadata": {},
   "outputs": [],
   "source": [
    "### Get all the recieved texts\n",
    "all_sms_payload = get_all_received_texts(api_client)\n",
    "\n",
    "# Get just the payload of all the recieved text msgs\n",
    "recieved_sms_msgs = all_sms_payload['received_text_messages']\n",
    "\n",
    "# Set up a list for the existing sms ids\n",
    "existing_sms_ids = get_all_sms_ids(recieved_sms_msgs=recieved_sms_msgs)"
   ]
  },
  {
   "cell_type": "code",
   "execution_count": null,
   "metadata": {},
   "outputs": [],
   "source": [
    "## Running the service\n",
    "\n",
    "while True:\n",
    "    msg = \"Running GOV.UK SPAM SERVICE\"\n",
    "    print(msg)\n",
    "    \n",
    "    # Get all the payload of all the recieved sms msgs\n",
    "    all_sms_msgs_payload = get_all_received_texts(api_client)\n",
    "    \n",
    "    # Get just the payload of all the recieved text msgs\n",
    "    recieved_sms_msgs = all_sms_msgs_payload['received_text_messages']\n",
    "    \n",
    "    for sms in recieved_sms_msgs:\n",
    "\n",
    "        if get_sms_id(sms) in existing_sms_ids:\n",
    "            break\n",
    "        \n",
    "        try:\n",
    "            # Get user sms text\n",
    "            user_sms = get_sms_msg(sms=sms)\n",
    "            \n",
    "            # Get the user phone number\n",
    "            user_phone_number = get_user_phone_number(sms=sms)\n",
    "            \n",
    "            # Get spam score\n",
    "            spam_score = get_spam_score(user_sms)\n",
    "\n",
    "            # get spam classfication\n",
    "            spam_classication = get_spam_classification(spam_score=spam_score, \n",
    "                                                        SPAM_THRESHOLD=SPAM_THRESHOLD)\n",
    "            \n",
    "            # get spam_sms_id to send:\n",
    "            sms_to_send = set_sms_id_to_send(spam_classification=spam_classication)\n",
    "            \n",
    "            # send the sms msg back to the user\n",
    "            send_sms_msg(NotificationsAPIClient=api_client, \n",
    "                         phone_number=user_phone_number, \n",
    "                         sms_id_to_send=sms_to_send)\n",
    "            \n",
    "            #Add to existing text message list\n",
    "            existing_sms_ids.append(get_sms_id(sms=sms))\n",
    "            \n",
    "        except Exception as e:\n",
    "            error_msg = \"some sort of error occurred, let's hope it's not important\"\n",
    "            print(error_msg)\n",
    "            print(e)\n",
    "\n",
    "    time.sleep(1)\n",
    "  "
   ]
  },
  {
   "cell_type": "code",
   "execution_count": null,
   "metadata": {},
   "outputs": [],
   "source": []
  },
  {
   "cell_type": "code",
   "execution_count": null,
   "metadata": {},
   "outputs": [],
   "source": []
  }
 ],
 "metadata": {
  "kernelspec": {
   "display_name": "xgov_hack_venv",
   "language": "python",
   "name": "python3"
  },
  "language_info": {
   "codemirror_mode": {
    "name": "ipython",
    "version": 3
   },
   "file_extension": ".py",
   "mimetype": "text/x-python",
   "name": "python",
   "nbconvert_exporter": "python",
   "pygments_lexer": "ipython3",
   "version": "3.11.0"
  },
  "vscode": {
   "interpreter": {
    "hash": "669c33e42d6e562132513e040e1ce5b43402587210e2cade689b0f4495da5276"
   }
  }
 },
 "nbformat": 4,
 "nbformat_minor": 2
}
