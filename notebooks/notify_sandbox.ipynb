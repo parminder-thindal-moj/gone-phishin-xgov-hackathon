{
 "cells": [
  {
   "cell_type": "code",
   "execution_count": null,
   "metadata": {},
   "outputs": [],
   "source": [
    "pwd"
   ]
  },
  {
   "cell_type": "code",
   "execution_count": null,
   "metadata": {},
   "outputs": [],
   "source": [
    "cd .."
   ]
  },
  {
   "cell_type": "code",
   "execution_count": null,
   "metadata": {},
   "outputs": [],
   "source": [
    "from constants import GOV_API_KEY, PST_PHONE_NUMBER, IPHONE_PHONE_NUMBER"
   ]
  },
  {
   "cell_type": "code",
   "execution_count": null,
   "metadata": {},
   "outputs": [],
   "source": [
    "from flask_app.app import score\n",
    "\n",
    "from notifications_python_client.notifications import NotificationsAPIClient\n",
    "\n",
    "notifications_client = NotificationsAPIClient(GOV_API_KEY)"
   ]
  },
  {
   "cell_type": "code",
   "execution_count": null,
   "metadata": {},
   "outputs": [],
   "source": [
    "import flask\n",
    "from flask import Flask, request\n",
    "import json\n",
    "import pandas as pd\n",
    "import pickle\n",
    "import xgboost\n",
    "from flask_app.extraction import url_extractor\n",
    "\n",
    "import regex as re\n",
    "\n",
    "import urllib.parse as urlparse\n",
    "from tld import get_tld\n",
    "import urllib.request as urlreq"
   ]
  },
  {
   "cell_type": "code",
   "execution_count": null,
   "metadata": {},
   "outputs": [],
   "source": [
    "### Greeting msg / autoreply msg\n",
    "greeting_msg_template_id = 'fbd7abfa-1bf3-4fc2-9948-4a37a6ce9293'\n",
    "\n",
    "#### Template Spam Msgs\n",
    "spam_msg_tempalte_id = \"ed5edbf5-76e0-42be-9c06-3b3717ce00ad\"\n",
    "not_spam_msg_template_id = \"5e107ed8-c631-492f-ad7d-91c73919a42e\""
   ]
  },
  {
   "cell_type": "code",
   "execution_count": null,
   "metadata": {},
   "outputs": [],
   "source": [
    "### Send text message:\n",
    "phone_number = PST_PHONE_NUMBER\n",
    "\n",
    "response = notifications_client.send_sms_notification(\n",
    "    phone_number=phone_number, # required string\n",
    "    template_id=greeting_msg_template_id, # required UUID string\n",
    ")"
   ]
  },
  {
   "cell_type": "code",
   "execution_count": null,
   "metadata": {},
   "outputs": [],
   "source": [
    "response"
   ]
  },
  {
   "cell_type": "code",
   "execution_count": null,
   "metadata": {},
   "outputs": [],
   "source": [
    "def get_received_texts():\n",
    "    \"\"\"Get all the recieved text messages to the digital phone number\"\"\"\n",
    "    notifications_client.get_recieved_texts()"
   ]
  },
  {
   "cell_type": "code",
   "execution_count": null,
   "metadata": {},
   "outputs": [],
   "source": [
    "def get_spam_score(url):\n",
    "    \n",
    "    \"\"\"Get the spam score of a given url\"\"\"\n",
    "    \n",
    "    # Convert to features df\n",
    "    data = url_extractor(url)\n",
    "    \n",
    "    # Load model\n",
    "    model = pickle.load(open('xg_model.pkl', 'rb'))\n",
    "    \n",
    "    spam_score = round(model.predict_proba(data.to_numpy())[0][1], 2)\n",
    "\n",
    "    return spam_score"
   ]
  },
  {
   "cell_type": "code",
   "execution_count": null,
   "metadata": {},
   "outputs": [],
   "source": [
    "def get_spam_classification(spam_score:float, threshold:float=0.65):\n",
    "    \"\"\"Get the text classfication or a spam score\"\"\"\n",
    "    if spam_score >= threshold:\n",
    "        spam_classfication = \"SPAM\"\n",
    "    else:\n",
    "        spam_classfication = \"NOT SPAM\"\n",
    "    \n",
    "    return spam_classfication"
   ]
  },
  {
   "cell_type": "code",
   "execution_count": null,
   "metadata": {},
   "outputs": [],
   "source": [
    "google_url = \"https://google.com\"\n",
    "\n",
    "google_spam_score = get_spam_score(google_url)\n",
    "\n",
    "google_spam_score"
   ]
  },
  {
   "cell_type": "code",
   "execution_count": null,
   "metadata": {},
   "outputs": [],
   "source": [
    "get_spam_classification(spam_score=google_spam_score)"
   ]
  },
  {
   "cell_type": "code",
   "execution_count": null,
   "metadata": {},
   "outputs": [],
   "source": [
    "spam_url = \"https://evri.id-60.com\"\n",
    "\n",
    "spam_eg_spam_score = get_spam_score(spam_url)\n",
    "\n",
    "spam_eg_spam_score"
   ]
  },
  {
   "cell_type": "code",
   "execution_count": null,
   "metadata": {},
   "outputs": [],
   "source": [
    "get_spam_classification(spam_score=spam_eg_spam_score)"
   ]
  },
  {
   "cell_type": "code",
   "execution_count": null,
   "metadata": {},
   "outputs": [],
   "source": []
  }
 ],
 "metadata": {
  "kernelspec": {
   "display_name": "xgov_hack_venv",
   "language": "python",
   "name": "python3"
  },
  "language_info": {
   "codemirror_mode": {
    "name": "ipython",
    "version": 3
   },
   "file_extension": ".py",
   "mimetype": "text/x-python",
   "name": "python",
   "nbconvert_exporter": "python",
   "pygments_lexer": "ipython3",
   "version": "3.11.0"
  }
 },
 "nbformat": 4,
 "nbformat_minor": 2
}
