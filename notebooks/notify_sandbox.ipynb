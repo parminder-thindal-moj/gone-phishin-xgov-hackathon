{
 "cells": [
  {
   "cell_type": "code",
   "execution_count": null,
   "metadata": {},
   "outputs": [],
   "source": [
    "pwd"
   ]
  },
  {
   "cell_type": "code",
   "execution_count": null,
   "metadata": {},
   "outputs": [],
   "source": [
    "cd .."
   ]
  },
  {
   "cell_type": "code",
   "execution_count": null,
   "metadata": {},
   "outputs": [],
   "source": [
    "from constants import GOV_API_KEY"
   ]
  },
  {
   "cell_type": "code",
   "execution_count": null,
   "metadata": {},
   "outputs": [],
   "source": [
    "from notifications_python_client.notifications import NotificationsAPIClient\n",
    "\n",
    "notifications_client = NotificationsAPIClient(GOV_API_KEY)\n"
   ]
  },
  {
   "cell_type": "code",
   "execution_count": null,
   "metadata": {},
   "outputs": [],
   "source": [
    "### Template ID - Initial Message:\n",
    "\n",
    "test_msg_template_id = '0137d332-68ba-40f3-8fd4-56740a869bce'\n",
    "initial_msg_template_id = 'fbd7abfa-1bf3-4fc2-9948-4a37a6ce9293'"
   ]
  },
  {
   "cell_type": "code",
   "execution_count": null,
   "metadata": {},
   "outputs": [],
   "source": [
    "#### Template Spam Msgs\n",
    "spam_msg_tempalte_id = \"ed5edbf5-76e0-42be-9c06-3b3717ce00ad\"\n",
    "not_spam_msg_template_id = \"5e107ed8-c631-492f-ad7d-91c73919a42e\""
   ]
  },
  {
   "cell_type": "code",
   "execution_count": null,
   "metadata": {},
   "outputs": [],
   "source": [
    "### Send text message:\n",
    "phone_number = '+447935993222'\n",
    "\n",
    "response = notifications_client.send_sms_notification(\n",
    "    phone_number=phone_number, # required string\n",
    "    template_id=initial_msg_template_id, # required UUID string\n",
    ")"
   ]
  },
  {
   "cell_type": "code",
   "execution_count": null,
   "metadata": {},
   "outputs": [],
   "source": [
    "response"
   ]
  },
  {
   "cell_type": "code",
   "execution_count": null,
   "metadata": {},
   "outputs": [],
   "source": [
    "notifications_client.get_received_texts()"
   ]
  },
  {
   "cell_type": "code",
   "execution_count": null,
   "metadata": {},
   "outputs": [],
   "source": []
  }
 ],
 "metadata": {
  "kernelspec": {
   "display_name": "xgov_hack_venv",
   "language": "python",
   "name": "python3"
  },
  "language_info": {
   "codemirror_mode": {
    "name": "ipython",
    "version": 3
   },
   "file_extension": ".py",
   "mimetype": "text/x-python",
   "name": "python",
   "nbconvert_exporter": "python",
   "pygments_lexer": "ipython3",
   "version": "3.11.0"
  }
 },
 "nbformat": 4,
 "nbformat_minor": 2
}
