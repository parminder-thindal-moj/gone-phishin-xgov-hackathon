{
 "cells": [
  {
   "cell_type": "code",
   "execution_count": 1,
   "metadata": {},
   "outputs": [
    {
     "data": {
      "text/plain": [
       "'/Users/samuel.weller/Python/gone-phishin-xgov-hackathon/notebooks'"
      ]
     },
     "execution_count": 1,
     "metadata": {},
     "output_type": "execute_result"
    }
   ],
   "source": [
    "pwd"
   ]
  },
  {
   "cell_type": "code",
   "execution_count": 2,
   "metadata": {},
   "outputs": [
    {
     "name": "stdout",
     "output_type": "stream",
     "text": [
      "/Users/samuel.weller/Python/gone-phishin-xgov-hackathon\n"
     ]
    }
   ],
   "source": [
    "cd .."
   ]
  },
  {
   "cell_type": "code",
   "execution_count": 3,
   "metadata": {},
   "outputs": [],
   "source": [
    "from constants import GOV_API_KEY, PST_PHONE_NUMBER, IPHONE_PHONE_NUMBER"
   ]
  },
  {
   "cell_type": "code",
   "execution_count": 4,
   "metadata": {},
   "outputs": [
    {
     "name": "stdout",
     "output_type": "stream",
     "text": [
      "<regex.Match object; span=(30, 61), match='https://nevincan.av.tr/otp.html'>\n",
      "['https://nevincan.av.tr/otp.html']\n"
     ]
    }
   ],
   "source": [
    "from flask_app.app import score\n",
    "\n",
    "from notifications_python_client.notifications import NotificationsAPIClient\n",
    "\n",
    "notifications_client = NotificationsAPIClient(GOV_API_KEY)"
   ]
  },
  {
   "cell_type": "code",
   "execution_count": 5,
   "metadata": {},
   "outputs": [],
   "source": [
    "import flask\n",
    "from flask import Flask, request\n",
    "import json\n",
    "import pandas as pd\n",
    "import pickle\n",
    "import xgboost\n",
    "from flask_app.extraction import url_extractor\n",
    "\n",
    "import regex as re\n",
    "\n",
    "import urllib.parse as urlparse\n",
    "from tld import get_tld\n",
    "import urllib.request as urlreq"
   ]
  },
  {
   "cell_type": "code",
   "execution_count": 6,
   "metadata": {},
   "outputs": [],
   "source": [
    "### Greeting msg / autoreply msg\n",
    "greeting_msg_template_id = 'fbd7abfa-1bf3-4fc2-9948-4a37a6ce9293'\n",
    "\n",
    "#### Template Spam Msgs\n",
    "spam_msg_tempalte_id = \"ed5edbf5-76e0-42be-9c06-3b3717ce00ad\"\n",
    "not_spam_msg_template_id = \"5e107ed8-c631-492f-ad7d-91c73919a42e\""
   ]
  },
  {
   "cell_type": "code",
   "execution_count": 7,
   "metadata": {},
   "outputs": [],
   "source": [
    "### Send text message:\n",
    "# phone_number = PST_PHONE_NUMBER\n",
    "\n",
    "# response = notifications_client.send_sms_notification(\n",
    "#     phone_number=phone_number, # required string\n",
    "#     template_id=greeting_msg_template_id, # required UUID string\n",
    "# )"
   ]
  },
  {
   "cell_type": "code",
   "execution_count": 8,
   "metadata": {},
   "outputs": [
    {
     "ename": "NameError",
     "evalue": "name 'response' is not defined",
     "output_type": "error",
     "traceback": [
      "\u001b[0;31m---------------------------------------------------------------------------\u001b[0m",
      "\u001b[0;31mNameError\u001b[0m                                 Traceback (most recent call last)",
      "Cell \u001b[0;32mIn[8], line 1\u001b[0m\n\u001b[0;32m----> 1\u001b[0m response\n",
      "\u001b[0;31mNameError\u001b[0m: name 'response' is not defined"
     ]
    }
   ],
   "source": [
    "response"
   ]
  },
  {
   "cell_type": "code",
   "execution_count": 9,
   "metadata": {},
   "outputs": [],
   "source": [
    "def get_received_texts():\n",
    "    \"\"\"Get all the recieved text messages to the digital phone number\"\"\"\n",
    "    return notifications_client.get_received_texts()"
   ]
  },
  {
   "cell_type": "code",
   "execution_count": 10,
   "metadata": {},
   "outputs": [],
   "source": [
    "def get_spam_score(url):\n",
    "    \n",
    "    \"\"\"Get the spam score of a given url\"\"\"\n",
    "    \n",
    "    # Convert to features df\n",
    "    data = url_extractor(url)\n",
    "    \n",
    "    # Load model\n",
    "    model = pickle.load(open('xg_model.pkl', 'rb'))\n",
    "    \n",
    "    spam_score = round(model.predict_proba(data.to_numpy())[0][1], 2)\n",
    "\n",
    "    return spam_score"
   ]
  },
  {
   "cell_type": "code",
   "execution_count": 11,
   "metadata": {},
   "outputs": [],
   "source": [
    "def get_spam_classification(spam_score:float, threshold:float=0.75):\n",
    "    \"\"\"Get the text classfication or a spam score\"\"\"\n",
    "    if spam_score >= threshold:\n",
    "        spam_classfication = \"SPAM\"\n",
    "    else:\n",
    "        spam_classfication = \"NOT SPAM\"\n",
    "    \n",
    "    return spam_classfication"
   ]
  },
  {
   "cell_type": "code",
   "execution_count": 12,
   "metadata": {},
   "outputs": [
    {
     "name": "stdout",
     "output_type": "stream",
     "text": [
      "<regex.Match object; span=(0, 18), match='https://google.com'>\n",
      "['https://google.com']\n"
     ]
    },
    {
     "data": {
      "text/plain": [
       "0.28"
      ]
     },
     "execution_count": 12,
     "metadata": {},
     "output_type": "execute_result"
    }
   ],
   "source": [
    "google_url = \"https://google.com\"\n",
    "\n",
    "google_spam_score = get_spam_score(google_url)\n",
    "\n",
    "google_spam_score"
   ]
  },
  {
   "cell_type": "code",
   "execution_count": 13,
   "metadata": {},
   "outputs": [
    {
     "data": {
      "text/plain": [
       "'NOT SPAM'"
      ]
     },
     "execution_count": 13,
     "metadata": {},
     "output_type": "execute_result"
    }
   ],
   "source": [
    "get_spam_classification(spam_score=google_spam_score)"
   ]
  },
  {
   "cell_type": "code",
   "execution_count": 14,
   "metadata": {},
   "outputs": [
    {
     "name": "stdout",
     "output_type": "stream",
     "text": [
      "<regex.Match object; span=(0, 22), match='https://evri.id-60.com'>\n",
      "['https://evri.id-60.com']\n"
     ]
    },
    {
     "data": {
      "text/plain": [
       "0.85"
      ]
     },
     "execution_count": 14,
     "metadata": {},
     "output_type": "execute_result"
    }
   ],
   "source": [
    "spam_url = \"https://evri.id-60.com\"\n",
    "\n",
    "spam_eg_spam_score = get_spam_score(spam_url)\n",
    "\n",
    "spam_eg_spam_score"
   ]
  },
  {
   "cell_type": "code",
   "execution_count": 15,
   "metadata": {},
   "outputs": [
    {
     "data": {
      "text/plain": [
       "'SPAM'"
      ]
     },
     "execution_count": 15,
     "metadata": {},
     "output_type": "execute_result"
    }
   ],
   "source": [
    "get_spam_classification(spam_score=spam_eg_spam_score)"
   ]
  },
  {
   "cell_type": "code",
   "execution_count": 22,
   "metadata": {},
   "outputs": [
    {
     "name": "stdout",
     "output_type": "stream",
     "text": [
      "{'content': 'www.google.co.uk', 'created_at': '2023-03-30T22:23:16.905471Z', 'id': 'b3760a6f-31d9-4970-b96f-d385b023b72d', 'notify_number': '07860003294', 'service_id': '6bcf111f-3cfc-4c63-87fa-5ed3b2c9d76a', 'user_number': '447923370598'}\n",
      "{'content': 'www.google.com', 'created_at': '2023-03-30T22:23:00.556655Z', 'id': '31b67912-9a7c-4129-aeaf-28b3e2cb81e7', 'notify_number': '07860003294', 'service_id': '6bcf111f-3cfc-4c63-87fa-5ed3b2c9d76a', 'user_number': '447923370598'}\n",
      "{'content': 'www.google.com', 'created_at': '2023-03-30T22:22:17.593662Z', 'id': 'a87de1b0-dbc7-491e-a65f-78a205d864b2', 'notify_number': '07860003294', 'service_id': '6bcf111f-3cfc-4c63-87fa-5ed3b2c9d76a', 'user_number': '447923370598'}\n",
      "{'content': 'www.google.com', 'created_at': '2023-03-30T22:20:53.000218Z', 'id': '609e1a65-bdfa-4f7e-87c9-57886c2921ef', 'notify_number': '07860003294', 'service_id': '6bcf111f-3cfc-4c63-87fa-5ed3b2c9d76a', 'user_number': '447923370598'}\n",
      "{'content': 'www.google.com', 'created_at': '2023-03-30T22:19:26.802124Z', 'id': '32c5ce32-ed05-4825-8cd6-200cab9cef5a', 'notify_number': '07860003294', 'service_id': '6bcf111f-3cfc-4c63-87fa-5ed3b2c9d76a', 'user_number': '447923370598'}\n",
      "{'content': 'www.google.com', 'created_at': '2023-03-30T22:17:53.531081Z', 'id': 'fba5fbd8-c72f-4cb6-a31f-41a123a6146a', 'notify_number': '07860003294', 'service_id': '6bcf111f-3cfc-4c63-87fa-5ed3b2c9d76a', 'user_number': '447923370598'}\n",
      "{'content': 'www.google.com', 'created_at': '2023-03-30T22:16:14.380304Z', 'id': '1a8f02b1-c673-48b7-87f0-c05e36e7b408', 'notify_number': '07860003294', 'service_id': '6bcf111f-3cfc-4c63-87fa-5ed3b2c9d76a', 'user_number': '447923370598'}\n",
      "{'content': 'www.google.co.uk', 'created_at': '2023-03-30T22:15:41.295462Z', 'id': '5fc07ea4-925f-465b-92cf-4c263699a681', 'notify_number': '07860003294', 'service_id': '6bcf111f-3cfc-4c63-87fa-5ed3b2c9d76a', 'user_number': '447923370598'}\n",
      "{'content': 'https://evri.id-35.com', 'created_at': '2023-03-30T21:38:06.904474Z', 'id': 'c62ba4bb-27f7-45bf-9668-cdd4191d670f', 'notify_number': '07860003294', 'service_id': '6bcf111f-3cfc-4c63-87fa-5ed3b2c9d76a', 'user_number': '447923370598'}\n",
      "{'content': 'https://evri.id-35.com', 'created_at': '2023-03-30T21:37:38.912321Z', 'id': '56484276-f605-4057-afd0-1bb24e64a565', 'notify_number': '07860003294', 'service_id': '6bcf111f-3cfc-4c63-87fa-5ed3b2c9d76a', 'user_number': '447923370598'}\n",
      "{'content': 'https://esri-5.g', 'created_at': '2023-03-30T21:33:37.100032Z', 'id': '6ca63ed7-9f20-4f18-a3da-94fc98d70d13', 'notify_number': '07860003294', 'service_id': '6bcf111f-3cfc-4c63-87fa-5ed3b2c9d76a', 'user_number': '447923370598'}\n",
      "{'content': 'https://www.google.com', 'created_at': '2023-03-30T21:33:08.531391Z', 'id': 'c1d6bdbc-a227-4b55-a16d-a0e41604889c', 'notify_number': '07860003294', 'service_id': '6bcf111f-3cfc-4c63-87fa-5ed3b2c9d76a', 'user_number': '447923370598'}\n",
      "{'content': 'https://www.google.com', 'created_at': '2023-03-30T21:27:17.198453Z', 'id': 'a3e4191d-8226-4a40-9614-83ae00c1f71a', 'notify_number': '07860003294', 'service_id': '6bcf111f-3cfc-4c63-87fa-5ed3b2c9d76a', 'user_number': '447923370598'}\n",
      "{'content': 'Can you please check this url - www.google.com', 'created_at': '2023-03-30T15:48:34.684975Z', 'id': '22e8ed36-a60f-422f-a067-bf2fad2532c3', 'notify_number': '07860003294', 'service_id': '6bcf111f-3cfc-4c63-87fa-5ed3b2c9d76a', 'user_number': '447935993222'}\n",
      "{'content': '15964', 'created_at': '2023-03-30T14:50:55.315855Z', 'id': '00fa445b-2cb9-44e6-a00d-70eb79f5ef59', 'notify_number': '07860003294', 'service_id': '6bcf111f-3cfc-4c63-87fa-5ed3b2c9d76a', 'user_number': '447935993222'}\n",
      "{'content': 'Heres my spam link', 'created_at': '2023-03-30T14:32:51.706282Z', 'id': '15656acb-17dd-467d-8299-0264a940c0ea', 'notify_number': '07860003294', 'service_id': '6bcf111f-3cfc-4c63-87fa-5ed3b2c9d76a', 'user_number': '447935993222'}\n",
      "{'content': 'Here is my spam link', 'created_at': '2023-03-30T12:34:42.389994Z', 'id': 'decc2206-000e-4160-8f07-6a298e5f51e3', 'notify_number': '07860003294', 'service_id': '6bcf111f-3cfc-4c63-87fa-5ed3b2c9d76a', 'user_number': '447935993222'}\n",
      "['b3760a6f-31d9-4970-b96f-d385b023b72d', '31b67912-9a7c-4129-aeaf-28b3e2cb81e7', 'a87de1b0-dbc7-491e-a65f-78a205d864b2', '609e1a65-bdfa-4f7e-87c9-57886c2921ef', '32c5ce32-ed05-4825-8cd6-200cab9cef5a', 'fba5fbd8-c72f-4cb6-a31f-41a123a6146a', '1a8f02b1-c673-48b7-87f0-c05e36e7b408', '5fc07ea4-925f-465b-92cf-4c263699a681', 'c62ba4bb-27f7-45bf-9668-cdd4191d670f', '56484276-f605-4057-afd0-1bb24e64a565', '6ca63ed7-9f20-4f18-a3da-94fc98d70d13', 'c1d6bdbc-a227-4b55-a16d-a0e41604889c', 'a3e4191d-8226-4a40-9614-83ae00c1f71a', '22e8ed36-a60f-422f-a067-bf2fad2532c3', '00fa445b-2cb9-44e6-a00d-70eb79f5ef59', '15656acb-17dd-467d-8299-0264a940c0ea', 'decc2206-000e-4160-8f07-6a298e5f51e3']\n",
      "{'content': 'www google.co.uk', 'created_at': '2023-03-30T22:24:36.607246Z', 'id': '0432e97f-71ef-4abe-8bc7-bd43a9221957', 'notify_number': '07860003294', 'service_id': '6bcf111f-3cfc-4c63-87fa-5ed3b2c9d76a', 'user_number': '447923370598'}\n",
      "Getting: www google.co.uk\n",
      "<regex.Match object; span=(0, 3), match='www'>\n",
      "['http://www']\n",
      "some sort of error occurred, let's hope it's not important\n",
      "Domain www didn't match any existing TLD name!\n",
      "{'content': 'www google.co.uk', 'created_at': '2023-03-30T22:24:36.607246Z', 'id': '0432e97f-71ef-4abe-8bc7-bd43a9221957', 'notify_number': '07860003294', 'service_id': '6bcf111f-3cfc-4c63-87fa-5ed3b2c9d76a', 'user_number': '447923370598'}\n",
      "Getting: www google.co.uk\n",
      "<regex.Match object; span=(0, 3), match='www'>\n",
      "['http://www']\n",
      "some sort of error occurred, let's hope it's not important\n",
      "Domain www didn't match any existing TLD name!\n",
      "{'content': 'www.google.co.uk', 'created_at': '2023-03-30T22:24:45.598592Z', 'id': 'a4cebd52-c990-4ae4-bdbe-4ad2a7124e6c', 'notify_number': '07860003294', 'service_id': '6bcf111f-3cfc-4c63-87fa-5ed3b2c9d76a', 'user_number': '447923370598'}\n",
      "Getting: www.google.co.uk\n",
      "<regex.Match object; span=(0, 16), match='www.google.co.uk'>\n",
      "['http://www.google.co.uk']\n",
      "0.74\n",
      "<regex.Match object; span=(0, 16), match='www.google.co.uk'>\n",
      "['http://www.google.co.uk']\n",
      "{'content': 'www google.co.uk', 'created_at': '2023-03-30T22:24:36.607246Z', 'id': '0432e97f-71ef-4abe-8bc7-bd43a9221957', 'notify_number': '07860003294', 'service_id': '6bcf111f-3cfc-4c63-87fa-5ed3b2c9d76a', 'user_number': '447923370598'}\n",
      "Getting: www google.co.uk\n",
      "<regex.Match object; span=(0, 3), match='www'>\n",
      "['http://www']\n",
      "some sort of error occurred, let's hope it's not important\n",
      "Domain www didn't match any existing TLD name!\n",
      "{'content': 'www.google.co.uk', 'created_at': '2023-03-30T22:25:34.671728Z', 'id': '3ec795cd-ef12-4b43-b126-b223c3a912b4', 'notify_number': '07860003294', 'service_id': '6bcf111f-3cfc-4c63-87fa-5ed3b2c9d76a', 'user_number': '447923370598'}\n",
      "Getting: www.google.co.uk\n",
      "<regex.Match object; span=(0, 16), match='www.google.co.uk'>\n",
      "['http://www.google.co.uk']\n",
      "0.74\n",
      "<regex.Match object; span=(0, 16), match='www.google.co.uk'>\n",
      "['http://www.google.co.uk']\n"
     ]
    },
    {
     "ename": "KeyboardInterrupt",
     "evalue": "",
     "output_type": "error",
     "traceback": [
      "\u001b[0;31m---------------------------------------------------------------------------\u001b[0m",
      "\u001b[0;31mKeyboardInterrupt\u001b[0m                         Traceback (most recent call last)",
      "Cell \u001b[0;32mIn[22], line 50\u001b[0m\n\u001b[1;32m     47\u001b[0m         \u001b[39mprint\u001b[39m(\u001b[39m\"\u001b[39m\u001b[39msome sort of error occurred, let\u001b[39m\u001b[39m'\u001b[39m\u001b[39ms hope it\u001b[39m\u001b[39m'\u001b[39m\u001b[39ms not important\u001b[39m\u001b[39m\"\u001b[39m)\n\u001b[1;32m     48\u001b[0m         \u001b[39mprint\u001b[39m(e)\n\u001b[0;32m---> 50\u001b[0m time\u001b[39m.\u001b[39;49msleep(\u001b[39m1\u001b[39;49m)\n",
      "\u001b[0;31mKeyboardInterrupt\u001b[0m: "
     ]
    }
   ],
   "source": [
    "import time\n",
    "texts = get_received_texts()\n",
    "\n",
    "existing = []\n",
    "\n",
    "for item in texts['received_text_messages']:\n",
    "    existing.append(item['id'])\n",
    "    print(item)\n",
    "\n",
    "print(existing)\n",
    "\n",
    "while True:\n",
    "\n",
    "    # Get texts\n",
    "    texts = get_received_texts()\n",
    "\n",
    "    for item in texts['received_text_messages']:\n",
    "\n",
    "        if item['id'] in existing:\n",
    "            break\n",
    "\n",
    "        print(item)\n",
    "        \n",
    "        try:\n",
    "            # Get score and return text\n",
    "            print(\"Getting: \" + item['content'].lower())\n",
    "            print(get_spam_score(item['content'].lower()))\n",
    "            if get_spam_score(item['content'].lower()) > 0.75:\n",
    "                \n",
    "                # Return SPAM message\n",
    "                response = notifications_client.send_sms_notification(\n",
    "                    phone_number=item['user_number'], # required string\n",
    "                    template_id=spam_msg_tempalte_id, # required UUID string\n",
    "                )\n",
    "\n",
    "            else:\n",
    "\n",
    "                # Return NOT SPAM\n",
    "                response = notifications_client.send_sms_notification(\n",
    "                    phone_number=item['user_number'], # required string\n",
    "                    template_id=not_spam_msg_template_id, # required UUID string\n",
    "                )\n",
    "\n",
    "            #Add to existing\n",
    "            existing.append(item['id'])\n",
    "        except Exception as e:\n",
    "            print(\"some sort of error occurred, let's hope it's not important\")\n",
    "            print(e)\n",
    "\n",
    "    time.sleep(1)"
   ]
  },
  {
   "cell_type": "code",
   "execution_count": 17,
   "metadata": {},
   "outputs": [
    {
     "name": "stdout",
     "output_type": "stream",
     "text": [
      "<regex.Match object; span=(0, 14), match='www.google.com'>\n",
      "['http://www.google.com']\n",
      "0.39\n"
     ]
    }
   ],
   "source": [
    "from flask_app.extraction import url_extractor\n",
    "\n",
    "print(get_spam_score('www.google.com'))"
   ]
  },
  {
   "cell_type": "code",
   "execution_count": null,
   "metadata": {},
   "outputs": [],
   "source": []
  }
 ],
 "metadata": {
  "kernelspec": {
   "display_name": "xgov_hack_venv",
   "language": "python",
   "name": "python3"
  },
  "language_info": {
   "codemirror_mode": {
    "name": "ipython",
    "version": 3
   },
   "file_extension": ".py",
   "mimetype": "text/x-python",
   "name": "python",
   "nbconvert_exporter": "python",
   "pygments_lexer": "ipython3",
   "version": "3.9.6"
  }
 },
 "nbformat": 4,
 "nbformat_minor": 2
}
