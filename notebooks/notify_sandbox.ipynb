{
 "cells": [
  {
   "cell_type": "code",
   "execution_count": null,
   "metadata": {},
   "outputs": [],
   "source": [
    "pwd"
   ]
  },
  {
   "cell_type": "code",
   "execution_count": null,
   "metadata": {},
   "outputs": [],
   "source": [
    "cd .."
   ]
  },
  {
   "cell_type": "code",
   "execution_count": null,
   "metadata": {},
   "outputs": [],
   "source": [
    "from constants import GOV_API_KEY"
   ]
  },
  {
   "cell_type": "code",
   "execution_count": null,
   "metadata": {},
   "outputs": [],
   "source": [
    "from flask_app.app import score\n",
    "\n",
    "from notifications_python_client.notifications import NotificationsAPIClient\n",
    "\n",
    "notifications_client = NotificationsAPIClient(GOV_API_KEY)"
   ]
  },
  {
   "cell_type": "code",
   "execution_count": null,
   "metadata": {},
   "outputs": [],
   "source": [
    "import flask\n",
    "from flask import Flask, request\n",
    "import json\n",
    "import pandas as pd\n",
    "import pickle\n",
    "import xgboost\n",
    "from flask_app.extraction import url_extractor\n",
    "\n",
    "import regex as re\n",
    "\n",
    "import urllib.parse as urlparse\n",
    "from tld import get_tld\n",
    "import urllib.request as urlreq"
   ]
  },
  {
   "cell_type": "code",
   "execution_count": null,
   "metadata": {},
   "outputs": [],
   "source": [
    "from functions.preprocessing import get_all_received_texts, get_spam_score, get_spam_classification"
   ]
  },
  {
   "cell_type": "code",
   "execution_count": null,
   "metadata": {},
   "outputs": [],
   "source": [
    "from utils import NOT_SPAM_MSG_ID, SPAM_MSG_ID, SPAM_THRESHOLD"
   ]
  },
  {
   "cell_type": "code",
   "execution_count": null,
   "metadata": {},
   "outputs": [],
   "source": [
    "google_url = \"https://google.com\"\n",
    "\n",
    "google_spam_score = get_spam_score(google_url)\n",
    "\n",
    "google_spam_score"
   ]
  },
  {
   "cell_type": "code",
   "execution_count": null,
   "metadata": {},
   "outputs": [],
   "source": [
    "get_spam_classification(spam_score=google_spam_score, SPAM_THRESHOLD=SPAM_THRESHOLD)"
   ]
  },
  {
   "cell_type": "code",
   "execution_count": null,
   "metadata": {},
   "outputs": [],
   "source": [
    "spam_url = \"https://evri.id-60.com\"\n",
    "\n",
    "spam_eg_spam_score = get_spam_score(spam_url)\n",
    "\n",
    "spam_eg_spam_score"
   ]
  },
  {
   "cell_type": "code",
   "execution_count": null,
   "metadata": {},
   "outputs": [],
   "source": [
    "get_spam_classification(spam_score=spam_eg_spam_score, SPAM_THRESHOLD=SPAM_THRESHOLD)"
   ]
  },
  {
   "cell_type": "code",
   "execution_count": null,
   "metadata": {},
   "outputs": [],
   "source": [
    "import time\n",
    "texts = get_all_received_texts(notifications_client)\n",
    "\n",
    "existing = []\n",
    "\n",
    "for item in texts['received_text_messages']:\n",
    "    existing.append(item['id'])\n",
    "    print(item)\n",
    "\n",
    "print(existing)\n",
    "\n",
    "while True:\n",
    "\n",
    "    # Get texts\n",
    "    texts = get_all_received_texts(notifications_client)\n",
    "\n",
    "    for item in texts['received_text_messages']:\n",
    "\n",
    "        if item['id'] in existing:\n",
    "            break\n",
    "\n",
    "        print(item)\n",
    "        \n",
    "        try:\n",
    "            # Get score and return text\n",
    "            print(\"Getting: \" + item['content'].lower())\n",
    "            print(get_spam_score(item['content'].lower()))\n",
    "            if get_spam_score(item['content'].lower()) > 0.75:\n",
    "                \n",
    "                # Return SPAM message\n",
    "                response = notifications_client.send_sms_notification(\n",
    "                    phone_number=item['user_number'], # required string\n",
    "                    template_id=SPAM_MSG_ID, # required UUID string\n",
    "                )\n",
    "\n",
    "            else:\n",
    "\n",
    "                # Return NOT SPAM\n",
    "                response = notifications_client.send_sms_notification(\n",
    "                    phone_number=item['user_number'], # required string\n",
    "                    template_id=NOT_SPAM_MSG_ID, # required UUID string\n",
    "                )\n",
    "\n",
    "            #Add to existing\n",
    "            existing.append(item['id'])\n",
    "        except Exception as e:\n",
    "            print(\"some sort of error occurred, let's hope it's not important\")\n",
    "            print(e)\n",
    "\n",
    "    time.sleep(1)"
   ]
  },
  {
   "cell_type": "code",
   "execution_count": null,
   "metadata": {},
   "outputs": [],
   "source": []
  },
  {
   "cell_type": "code",
   "execution_count": null,
   "metadata": {},
   "outputs": [],
   "source": []
  }
 ],
 "metadata": {
  "kernelspec": {
   "display_name": "xgov_hack_venv",
   "language": "python",
   "name": "python3"
  },
  "language_info": {
   "codemirror_mode": {
    "name": "ipython",
    "version": 3
   },
   "file_extension": ".py",
   "mimetype": "text/x-python",
   "name": "python",
   "nbconvert_exporter": "python",
   "pygments_lexer": "ipython3",
   "version": "3.11.0"
  },
  "vscode": {
   "interpreter": {
    "hash": "669c33e42d6e562132513e040e1ce5b43402587210e2cade689b0f4495da5276"
   }
  }
 },
 "nbformat": 4,
 "nbformat_minor": 2
}
